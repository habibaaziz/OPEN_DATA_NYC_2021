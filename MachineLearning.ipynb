{
 "cells": [
  {
   "cell_type": "markdown",
   "metadata": {},
   "source": [
    "<h1 style=\"text-align:center\"> NYC Open Data Week at TIQC</h1>\n",
    "<h2 style=\"text-align:center\"> Machine Learning</h2>"
   ]
  },
  {
   "cell_type": "markdown",
   "metadata": {},
   "source": [
    "<img src=\"https://scikit-learn.org/stable/_static/scikit-learn-logo-small.png\" width=\"200px\" height=\"200px\" align=\"center\" >\n",
    "\n",
    "<img src=\"https://opendata.cityofnewyork.us/wp-content/themes/opendata-wp/assets/img/nyc-open-data-logo.svg\" width=\"200px\" height=\"200px\" align=\"left\" >\n",
    "\n",
    "<img src=\"https://techincubatorqc.com/wp-content/uploads/2020/02/cropped-TechIncubator_web_black_red_logo-1.png\" width=\"200px\" height=\"200px\" align=\"right\" padding=\"top\" >\n",
    "\n"
   ]
  },
  {
   "cell_type": "markdown",
   "metadata": {},
   "source": [
    "Machine learning involves building mathematical models to help\n",
    "understand data. “Learning” enters the fray when we give these models tunable\n",
    "parameters that can be adapted to observed data; in this way the program can be considered\n",
    "to be “learning” from the data. Once these models have been fit to previously\n",
    "seen data, they can be used to predict and understand aspects of newly observed data.\n",
    "\n",
    "## Categories of Machine Learning\n",
    "\n",
    "**Supervised learning** involves somehow modeling the relationship between measured\n",
    "features of data and some label associated with the data; once this model is determined,\n",
    "it can be used to apply labels to new, unknown data. This is further subdivided\n",
    "into classification tasks and regression tasks: in classification, the labels are\n",
    "discrete categories, while in regression, the labels are continuous quantities. We will\n",
    "see examples of both types of supervised learning in the following section.<br>\n",
    "\n",
    "**Unsupervised learning** involves modeling the features of a dataset without reference to\n",
    "any label, and is often described as “letting the dataset speak for itself.” These models\n",
    "include tasks such as clustering and dimensionality reduction. Clustering algorithms identify distinct groups of data, while dimensionality reduction algorithms search for\n",
    "more succinct representations of the data. We will see examples of both types of\n",
    "unsupervised learning in the following section.\n",
    "\n",
    "**Semi-supervised learning methods**, which fall somewhere\n",
    "between supervised learning and unsupervised learning. Semi-supervised\n",
    "learning methods are often useful when only incomplete labels are available.\n",
    "\n",
    "Terminology to discuss: overfitting and complexity, inference vs prediction\n",
    "\n",
    "Source: [Python Data Science Handbook](https://www.oreilly.com/library/view/python-data-science/9781491912126)"
   ]
  },
  {
   "cell_type": "markdown",
   "metadata": {},
   "source": [
    "# Table of Contents\n",
    "\n",
    "<div class = \"alert alert-info\">\n",
    "\n",
    "1. [Loading the data](#1)<br>\n",
    "    \n",
    "2. [Supervised Machine Learning](#2)<br>\n",
    "    \n",
    "3. [Unsupervised Machine Learning](#3) <br>\n",
    "  \n",
    "  \n",
    "\n",
    "</div>\n",
    "<hr>"
   ]
  },
  {
   "cell_type": "markdown",
   "metadata": {},
   "source": [
    "## The Greener, Greater Buildings historical data set\n",
    "\n",
    "New York's [Greener, Greater Buildings](https://www.nyc.gov/html/gbee/downloads/pdf/greener_greater_buildings_plan.pdf) program is a sustainable growth iniative that aims to reduce greenhouse gas emissions by 30%. The program focusses on large buildings which consume the most resources. The stewards of these buildings must annually release public benchmarks of water and energy use. The buildings will also go through retro commissioning and audits every decade to help reduce resource use. Finally, non-commercial residential buildings must meet improved lighting codes.\n",
    "\n",
    "The [clean heat](https://data.cityofnewyork.us/City-Government/NYC-Clean-Heat-Dataset-Historical-/8isn-pgv3) sample contains 1000 observations of the energy use of buildings across New York City. The data contain information on the building's borough, neighborhood, owner, address, boiler type, fuel used, square footage, energy use, as well as if the building is part of the initative. Some of the features are a bit messy with miscoded values or types that are parsed incorrectly as Strings rather than numbers. \n",
    "\n",
    "**Data Provided by the Mayor's Office of Sustainability (MOS)**\n",
    "\n",
    "Source: https://data.cityofnewyork.us/City-Government/NYC-Clean-Heat-Dataset-Historical-/8isn-pgv3\n",
    "\n",
    "# Importing the clean heat data set <a id=1></a>\n",
    "\n",
    "Python is a minimalist, almost Spartan programming language that is designed around easy of use. Scientists have steadily adopted the language which has lead to explosive growth in recent years. As a general purpose programming language, Python is vastly more powerful than other domain specific languages such as R or SAS.\n",
    "\n",
    "Our workshop focusses on machine learning, but we'll be using several common, open source scientific Python libraries including:\n",
    "\n",
    "* [NumPy](https://numpy.org/) - n dimensional arrays and linear algebra.\n",
    "* [pandas](https://pandas.pydata.org/) - Columnar data frames.\n",
    "* [Matplotlib](https://matplotlib.org/stable/index.html) - Lower level plotting and drawing interface.\n",
    "* [Seaborn](https://seaborn.pydata.org/) - Higher level plotting interface with good defaults\n",
    "* [scikit-learn](https://scikit-learn.org/stable/) - Machine learning algorithms with a consistent interface.\n",
    "\n",
    "This workshop assumes that you **have a working Python 3 installation with the above libraries installed.** An easy way to get everything set up is to install [Anaconda](https://anaconda.org/) which is a free and open source package manager for scientific Python as well as R. Anaconda is available for Linux, Windows, and macOS. Anaconda is preferable to managing your own environment or using your system installation of Python (unless you're absolutely sure you know what you're doing)."
   ]
  },
  {
   "cell_type": "code",
   "execution_count": 8,
   "metadata": {},
   "outputs": [],
   "source": [
    "import pandas as pd \n",
    "import numpy as np\n",
    "import matplotlib.pyplot as plt\n",
    "import seaborn as sns\n",
    "\n",
    "clean_heat = pd.read_csv(\"NYC_Clean_Heat_Dataset__Historical_.csv\")"
   ]
  },
  {
   "cell_type": "markdown",
   "metadata": {},
   "source": [
    "The code above simply loads several of the libraries we'll be using under the common aliases as well as loads the data set into a variable called _clean_heat_.\n",
    "\n",
    "The libraries above, including scikit-learn, don't require your data to be stored as a pandas DataFrame. However, using DataFrames greatly simplifies a lot of the prerequisite work."
   ]
  },
  {
   "cell_type": "markdown",
   "metadata": {},
   "source": [
    "# Data cleaning (placeholder)\n",
    "\n",
    "To do:\n",
    "\n",
    "Fix Borough.\n",
    "Fix sqft.\n",
    "\n",
    "Preprocessing notes: \n",
    "Average of low/high for feature engineering\n",
    "Clean up building_type by collapsing categories\n",
    "\n",
    "Plots for EDA (don't run yet):\n",
    "fig_sqftgal, ax_sqftgal = plt.subplots(figsize=(12, 10))\n",
    "sns.scatterplot(x=\"bldg_sqft\", y=\"total_gallons_high\", hue=\"greener_greater_buildings\",\n",
    "data=clean_heat, ax=ax_sqftgal)\n",
    "\n",
    "**explain code in separate chunks**\n",
    "**add domain knowledge thingy**"
   ]
  },
  {
   "cell_type": "code",
   "execution_count": 9,
   "metadata": {},
   "outputs": [],
   "source": [
    "clean_heat.columns = clean_heat.columns.str.lower().str.replace(' ', '_')\n",
    "\n",
    "clean_heat.rename(columns={\"total_gallons_(high)\": \"total_gallons_high\",\n",
    "                           \"total_gallons_(low)\": \"total_gallons_low\",\n",
    "                           \"total_mmbtu_(high)\": \"total_mmbtu_high\",\n",
    "                           \"total_mmbtu_(low)\": \"total_mmbtu_low\",\n",
    "                           \"boiler_capacity_(gross__btu)\": \"boiler_cap_btu\",\n",
    "                           \"condo?\": \"condo\",\n",
    "                           \"coop?\": \"coop\",\n",
    "                           \"#_of_identical_boilers\": \"num_ident_boilers\",\n",
    "                           \"#_of_bldgs\": \"num_bldgs\",\n",
    "                           \"#_of_floors\": \"num_floors\",\n",
    "                           \"#_of_res._units\": \"num_res_units\",\n",
    "                           \"est._retirement_year\": \"est_retire_yr\"},\n",
    "                  errors=\"raise\",\n",
    "                  inplace=True)\n",
    "\n",
    "# Descriptive categories\n",
    "clean_heat.primary_fuel.replace({\"#6\": \"Residual fuel\",\n",
    "                                 \"#4\": \"Distillate fuel (#4)\"},\n",
    "                                inplace=True)\n",
    "\n",
    "# The square feet variable is a String rather than an int\n",
    "clean_heat.bldg_sqft = pd.to_numeric(clean_heat.bldg_sqft.str.replace(\"[\\*|,]\", \"\",\n",
    "                                                                      regex=True))\n",
    "\n",
    "# Miscoded points\n",
    "# The data contain a handful of very strange observations!\n",
    "# At least three points pointed to City Hall with sixty times the gallons\n",
    "# used of the next maximum observation. I attempted to research the odd points\n",
    "# but found nothing; filtering them out is probably the safest bet.\n",
    "clean_heat.loc[(clean_heat.total_gallons_high > 1000000) |\n",
    "               (clean_heat.total_gallons_low > 1000000) |\n",
    "               (clean_heat.total_gallons_high < 10) |\n",
    "               (clean_heat.total_gallons_low < 10),\n",
    "               [\"total_gallons_high\", \"total_gallons_low\"]] = np.nan\n",
    "\n",
    "# The MMBTU features had similar weirdness. For example, there are at least\n",
    "# six samples with low > high while also having strange numbers that are much\n",
    "# higher than the rest of the data.\n",
    "clean_heat.loc[(clean_heat.total_mmbtu_high > 50000) |\n",
    "               (clean_heat.total_mmbtu_low > 50000) |\n",
    "               (clean_heat.total_mmbtu_high == 0) |\n",
    "               (clean_heat.total_mmbtu_low == 0),\n",
    "               [\"total_mmbtu_high\", \"total_mmbtu_low\"]] = np.nan\n",
    "\n",
    "# Boiler capacity incorrect values\n",
    "clean_heat.loc[clean_heat.boiler_cap_btu > 500, \"boiler_cap_btu\"] = np.nan\n",
    "\n",
    "# These features/columns encode NaNs as zero\n",
    "zero_nans = [\"#6_deadline\", \"ggb_deadline\", \"est_retire_yr\",\n",
    "            \"boiler_installation_date\"]\n",
    "\n",
    "for col in zero_nans:\n",
    "    clean_heat[col].replace({0: np.nan}, inplace=True)\n",
    "    \n",
    "# Change ALL CAPS to title case\n",
    "for all_caps in [\"street_address\", \"building_manager\",\n",
    "                \"owner\", \"owner_address\"]:\n",
    "    clean_heat[all_caps] = clean_heat[all_caps].str.title()\n",
    "\n",
    "# List of (most) categorical columns\n",
    "cats = [\"borough\", \"primary_fuel\", \"utility\",\n",
    "       \"greener_greater_buildings\", \"ggb_deadline\",\n",
    "       \"num_ident_boilers\", \"building_type\",\n",
    "       \"council_district\", \"community_board\",\n",
    "       \"condo\", \"coop\", \"nta\"] + zero_nans\n",
    "\n",
    "# Convert the types of each categorical\n",
    "for cat in cats:\n",
    "    clean_heat[cat] = clean_heat[cat].astype(\"category\")"
   ]
  },
  {
   "cell_type": "markdown",
   "metadata": {},
   "source": [
    "# Exploratory data analysis\n",
    "\n",
    "Exploratory data analysis, or EDA, is one of the pivotal steps of the data analysis as well as machine learning pipeline. ML requires an intimate knowledge of the data in order to understand which models to apply as well which variables may be useful. ML is not an automatic process despite the elegance and simplicity of the sklearn library.\n",
    "\n",
    "Data cleaning and preprocessing both help understanding, but literally plotting and **looking** at your data can uncover trends, problems, and variables to consider. Like the data cleaning section we don't expect you to go through the process yourself as this workshop is on machine learning. However, we will go through a few useful visualizations so that you may look at the data yourself!\n",
    "\n",
    "## Proportions of classes\n",
    "\n",
    "Categorical variables may be unbalanced in terms of their classes. For example, a class may dominate the sample with a high proportion of observations. Another potential problem is that a categorical feature may contain _many_ classes that each make up a small proportion of the total. Both of these issues are problems, and the clean heat data contain examples of each."
   ]
  },
  {
   "cell_type": "code",
   "execution_count": 65,
   "metadata": {},
   "outputs": [
    {
     "data": {
      "image/png": "[encoded data removed]",
      "text/plain": [
       "<Figure size 720x720 with 4 Axes>"
      ]
     },
     "metadata": {
      "needs_background": "light"
     },
     "output_type": "display_data"
    }
   ],
   "source": [
    "fig_catcount, ax_catcount = plt.subplots(4,\n",
    "                                         sharex=True,\n",
    "                                         figsize=(10, 10),\n",
    "                                         gridspec_kw={\"height_ratios\": [16, 4, 1.5, 1.5]})\n",
    "\n",
    "for col, ax in zip([\"building_type\",\n",
    "                    \"borough\",\n",
    "                    \"primary_fuel\",\n",
    "                    \"utility\"],\n",
    "                   ax_catcount.flat):\n",
    "\n",
    "    # Proportions are cleaner.\n",
    "    prop_cat = clean_heat[col].value_counts(normalize=True)\n",
    "    prop_cat.sort_values(inplace=True)\n",
    "\n",
    "    # We'll use different colors to draw attention to low proportions\n",
    "    colors = [\"red\" if prop < 0.15 else \"green\" for prop in prop_cat]\n",
    "    ax.hlines(prop_cat.index, xmin=0, xmax=prop_cat, colors=colors)\n",
    "    ax.plot(prop_cat, prop_cat.index, 'o')\n",
    "\n",
    "    # Labels and customization\n",
    "    ax.set_title(col.replace('_', ' ').title(),\n",
    "                 {\"size\": 13,\n",
    "                  \"weight\": \"bold\"})\n",
    "    # We don't need axis labels\n",
    "    ax.set_xlabel(\"\")\n",
    "    ax.set_ylabel(\"\")\n",
    "    # We only need an x grid rather than both.\n",
    "    ax.grid(axis=\"x\")\n",
    "    ax.set_axisbelow(True)\n",
    "    ax.set_frame_on(False)\n",
    "\n",
    "# Figure customization\n",
    "fig_catcount.suptitle(\"Class proportions for selected categoricals\",\n",
    "                      y=1,\n",
    "                      fontproperties={\"size\": 18,\n",
    "                                      \"weight\": \"bold\"})\n",
    "fig_catcount.tight_layout()"
   ]
  },
  {
   "cell_type": "markdown",
   "metadata": {},
   "source": [
    "## Distribution of selected numerical variables\n",
    "\n",
    "(type stuff later)"
   ]
  },
  {
   "cell_type": "code",
   "execution_count": 67,
   "metadata": {},
   "outputs": [
    {
     "ename": "AttributeError",
     "evalue": "'PolyCollection' object has no property 'rug'",
     "output_type": "error",
     "traceback": [
      "\u001b[1;31m---------------------------------------------------------------------------\u001b[0m",
      "\u001b[1;31mAttributeError\u001b[0m                            Traceback (most recent call last)",
      "\u001b[1;32m<ipython-input-67-a51ae10ca362>\u001b[0m in \u001b[0;36m<module>\u001b[1;34m\u001b[0m\n\u001b[0;32m      8\u001b[0m             \u001b[0mfill\u001b[0m\u001b[1;33m=\u001b[0m\u001b[1;32mTrue\u001b[0m\u001b[1;33m,\u001b[0m\u001b[1;33m\u001b[0m\u001b[1;33m\u001b[0m\u001b[0m\n\u001b[0;32m      9\u001b[0m             \u001b[0mcolor\u001b[0m\u001b[1;33m=\u001b[0m\u001b[1;34m\"royalblue\"\u001b[0m\u001b[1;33m,\u001b[0m\u001b[1;33m\u001b[0m\u001b[1;33m\u001b[0m\u001b[0m\n\u001b[1;32m---> 10\u001b[1;33m            data=clean_heat)\n\u001b[0m",
      "\u001b[1;32mC:\\ProgramData\\Anaconda3\\lib\\site-packages\\seaborn\\_decorators.py\u001b[0m in \u001b[0;36minner_f\u001b[1;34m(*args, **kwargs)\u001b[0m\n\u001b[0;32m     44\u001b[0m             )\n\u001b[0;32m     45\u001b[0m         \u001b[0mkwargs\u001b[0m\u001b[1;33m.\u001b[0m\u001b[0mupdate\u001b[0m\u001b[1;33m(\u001b[0m\u001b[1;33m{\u001b[0m\u001b[0mk\u001b[0m\u001b[1;33m:\u001b[0m \u001b[0marg\u001b[0m \u001b[1;32mfor\u001b[0m \u001b[0mk\u001b[0m\u001b[1;33m,\u001b[0m \u001b[0marg\u001b[0m \u001b[1;32min\u001b[0m \u001b[0mzip\u001b[0m\u001b[1;33m(\u001b[0m\u001b[0msig\u001b[0m\u001b[1;33m.\u001b[0m\u001b[0mparameters\u001b[0m\u001b[1;33m,\u001b[0m \u001b[0margs\u001b[0m\u001b[1;33m)\u001b[0m\u001b[1;33m}\u001b[0m\u001b[1;33m)\u001b[0m\u001b[1;33m\u001b[0m\u001b[1;33m\u001b[0m\u001b[0m\n\u001b[1;32m---> 46\u001b[1;33m         \u001b[1;32mreturn\u001b[0m \u001b[0mf\u001b[0m\u001b[1;33m(\u001b[0m\u001b[1;33m**\u001b[0m\u001b[0mkwargs\u001b[0m\u001b[1;33m)\u001b[0m\u001b[1;33m\u001b[0m\u001b[1;33m\u001b[0m\u001b[0m\n\u001b[0m\u001b[0;32m     47\u001b[0m     \u001b[1;32mreturn\u001b[0m \u001b[0minner_f\u001b[0m\u001b[1;33m\u001b[0m\u001b[1;33m\u001b[0m\u001b[0m\n\u001b[0;32m     48\u001b[0m \u001b[1;33m\u001b[0m\u001b[0m\n",
      "\u001b[1;32mC:\\ProgramData\\Anaconda3\\lib\\site-packages\\seaborn\\distributions.py\u001b[0m in \u001b[0;36mkdeplot\u001b[1;34m(x, y, shade, vertical, kernel, bw, gridsize, cut, clip, legend, cumulative, shade_lowest, cbar, cbar_ax, cbar_kws, ax, weights, hue, palette, hue_order, hue_norm, multiple, common_norm, common_grid, levels, thresh, bw_method, bw_adjust, log_scale, color, fill, data, data2, **kwargs)\u001b[0m\n\u001b[0;32m   1733\u001b[0m             \u001b[0mlegend\u001b[0m\u001b[1;33m=\u001b[0m\u001b[0mlegend\u001b[0m\u001b[1;33m,\u001b[0m\u001b[1;33m\u001b[0m\u001b[1;33m\u001b[0m\u001b[0m\n\u001b[0;32m   1734\u001b[0m             \u001b[0mestimate_kws\u001b[0m\u001b[1;33m=\u001b[0m\u001b[0mestimate_kws\u001b[0m\u001b[1;33m,\u001b[0m\u001b[1;33m\u001b[0m\u001b[1;33m\u001b[0m\u001b[0m\n\u001b[1;32m-> 1735\u001b[1;33m             \u001b[1;33m**\u001b[0m\u001b[0mplot_kws\u001b[0m\u001b[1;33m,\u001b[0m\u001b[1;33m\u001b[0m\u001b[1;33m\u001b[0m\u001b[0m\n\u001b[0m\u001b[0;32m   1736\u001b[0m         )\n\u001b[0;32m   1737\u001b[0m \u001b[1;33m\u001b[0m\u001b[0m\n",
      "\u001b[1;32mC:\\ProgramData\\Anaconda3\\lib\\site-packages\\seaborn\\distributions.py\u001b[0m in \u001b[0;36mplot_univariate_density\u001b[1;34m(self, multiple, common_norm, common_grid, fill, legend, estimate_kws, **plot_kws)\u001b[0m\n\u001b[0;32m    947\u001b[0m                             \u001b[0mdefault_color\u001b[0m \u001b[1;33m=\u001b[0m \u001b[1;34m\"C0\"\u001b[0m\u001b[1;33m\u001b[0m\u001b[1;33m\u001b[0m\u001b[0m\n\u001b[0;32m    948\u001b[0m                     \u001b[1;32melse\u001b[0m\u001b[1;33m:\u001b[0m\u001b[1;33m\u001b[0m\u001b[1;33m\u001b[0m\u001b[0m\n\u001b[1;32m--> 949\u001b[1;33m                         \u001b[0mscout\u001b[0m \u001b[1;33m=\u001b[0m \u001b[0mself\u001b[0m\u001b[1;33m.\u001b[0m\u001b[0max\u001b[0m\u001b[1;33m.\u001b[0m\u001b[0mfill_between\u001b[0m\u001b[1;33m(\u001b[0m\u001b[1;33m[\u001b[0m\u001b[1;33m]\u001b[0m\u001b[1;33m,\u001b[0m \u001b[1;33m[\u001b[0m\u001b[1;33m]\u001b[0m\u001b[1;33m,\u001b[0m \u001b[1;33m**\u001b[0m\u001b[0mplot_kws\u001b[0m\u001b[1;33m)\u001b[0m\u001b[1;33m\u001b[0m\u001b[1;33m\u001b[0m\u001b[0m\n\u001b[0m\u001b[0;32m    950\u001b[0m                         \u001b[0mdefault_color\u001b[0m \u001b[1;33m=\u001b[0m \u001b[0mtuple\u001b[0m\u001b[1;33m(\u001b[0m\u001b[0mscout\u001b[0m\u001b[1;33m.\u001b[0m\u001b[0mget_facecolor\u001b[0m\u001b[1;33m(\u001b[0m\u001b[1;33m)\u001b[0m\u001b[1;33m.\u001b[0m\u001b[0msqueeze\u001b[0m\u001b[1;33m(\u001b[0m\u001b[1;33m)\u001b[0m\u001b[1;33m)\u001b[0m\u001b[1;33m\u001b[0m\u001b[1;33m\u001b[0m\u001b[0m\n\u001b[0;32m    951\u001b[0m                     \u001b[0mplot_kws\u001b[0m\u001b[1;33m.\u001b[0m\u001b[0mpop\u001b[0m\u001b[1;33m(\u001b[0m\u001b[1;34m\"color\"\u001b[0m\u001b[1;33m,\u001b[0m \u001b[1;32mNone\u001b[0m\u001b[1;33m)\u001b[0m\u001b[1;33m\u001b[0m\u001b[1;33m\u001b[0m\u001b[0m\n",
      "\u001b[1;32mC:\\ProgramData\\Anaconda3\\lib\\site-packages\\matplotlib\\__init__.py\u001b[0m in \u001b[0;36minner\u001b[1;34m(ax, data, *args, **kwargs)\u001b[0m\n\u001b[0;32m   1445\u001b[0m     \u001b[1;32mdef\u001b[0m \u001b[0minner\u001b[0m\u001b[1;33m(\u001b[0m\u001b[0max\u001b[0m\u001b[1;33m,\u001b[0m \u001b[1;33m*\u001b[0m\u001b[0margs\u001b[0m\u001b[1;33m,\u001b[0m \u001b[0mdata\u001b[0m\u001b[1;33m=\u001b[0m\u001b[1;32mNone\u001b[0m\u001b[1;33m,\u001b[0m \u001b[1;33m**\u001b[0m\u001b[0mkwargs\u001b[0m\u001b[1;33m)\u001b[0m\u001b[1;33m:\u001b[0m\u001b[1;33m\u001b[0m\u001b[1;33m\u001b[0m\u001b[0m\n\u001b[0;32m   1446\u001b[0m         \u001b[1;32mif\u001b[0m \u001b[0mdata\u001b[0m \u001b[1;32mis\u001b[0m \u001b[1;32mNone\u001b[0m\u001b[1;33m:\u001b[0m\u001b[1;33m\u001b[0m\u001b[1;33m\u001b[0m\u001b[0m\n\u001b[1;32m-> 1447\u001b[1;33m             \u001b[1;32mreturn\u001b[0m \u001b[0mfunc\u001b[0m\u001b[1;33m(\u001b[0m\u001b[0max\u001b[0m\u001b[1;33m,\u001b[0m \u001b[1;33m*\u001b[0m\u001b[0mmap\u001b[0m\u001b[1;33m(\u001b[0m\u001b[0msanitize_sequence\u001b[0m\u001b[1;33m,\u001b[0m \u001b[0margs\u001b[0m\u001b[1;33m)\u001b[0m\u001b[1;33m,\u001b[0m \u001b[1;33m**\u001b[0m\u001b[0mkwargs\u001b[0m\u001b[1;33m)\u001b[0m\u001b[1;33m\u001b[0m\u001b[1;33m\u001b[0m\u001b[0m\n\u001b[0m\u001b[0;32m   1448\u001b[0m \u001b[1;33m\u001b[0m\u001b[0m\n\u001b[0;32m   1449\u001b[0m         \u001b[0mbound\u001b[0m \u001b[1;33m=\u001b[0m \u001b[0mnew_sig\u001b[0m\u001b[1;33m.\u001b[0m\u001b[0mbind\u001b[0m\u001b[1;33m(\u001b[0m\u001b[0max\u001b[0m\u001b[1;33m,\u001b[0m \u001b[1;33m*\u001b[0m\u001b[0margs\u001b[0m\u001b[1;33m,\u001b[0m \u001b[1;33m**\u001b[0m\u001b[0mkwargs\u001b[0m\u001b[1;33m)\u001b[0m\u001b[1;33m\u001b[0m\u001b[1;33m\u001b[0m\u001b[0m\n",
      "\u001b[1;32mC:\\ProgramData\\Anaconda3\\lib\\site-packages\\matplotlib\\axes\\_axes.py\u001b[0m in \u001b[0;36mfill_between\u001b[1;34m(self, x, y1, y2, where, interpolate, step, **kwargs)\u001b[0m\n\u001b[0;32m   5301\u001b[0m         return self._fill_between_x_or_y(\n\u001b[0;32m   5302\u001b[0m             \u001b[1;34m\"x\"\u001b[0m\u001b[1;33m,\u001b[0m \u001b[0mx\u001b[0m\u001b[1;33m,\u001b[0m \u001b[0my1\u001b[0m\u001b[1;33m,\u001b[0m \u001b[0my2\u001b[0m\u001b[1;33m,\u001b[0m\u001b[1;33m\u001b[0m\u001b[1;33m\u001b[0m\u001b[0m\n\u001b[1;32m-> 5303\u001b[1;33m             where=where, interpolate=interpolate, step=step, **kwargs)\n\u001b[0m\u001b[0;32m   5304\u001b[0m \u001b[1;33m\u001b[0m\u001b[0m\n\u001b[0;32m   5305\u001b[0m     \u001b[1;32mif\u001b[0m \u001b[0m_fill_between_x_or_y\u001b[0m\u001b[1;33m.\u001b[0m\u001b[0m__doc__\u001b[0m\u001b[1;33m:\u001b[0m\u001b[1;33m\u001b[0m\u001b[1;33m\u001b[0m\u001b[0m\n",
      "\u001b[1;32mC:\\ProgramData\\Anaconda3\\lib\\site-packages\\matplotlib\\axes\\_axes.py\u001b[0m in \u001b[0;36m_fill_between_x_or_y\u001b[1;34m(self, ind_dir, ind, dep1, dep2, where, interpolate, step, **kwargs)\u001b[0m\n\u001b[0;32m   5285\u001b[0m             \u001b[0mpolys\u001b[0m\u001b[1;33m.\u001b[0m\u001b[0mappend\u001b[0m\u001b[1;33m(\u001b[0m\u001b[0mpts\u001b[0m\u001b[1;33m)\u001b[0m\u001b[1;33m\u001b[0m\u001b[1;33m\u001b[0m\u001b[0m\n\u001b[0;32m   5286\u001b[0m \u001b[1;33m\u001b[0m\u001b[0m\n\u001b[1;32m-> 5287\u001b[1;33m         \u001b[0mcollection\u001b[0m \u001b[1;33m=\u001b[0m \u001b[0mmcoll\u001b[0m\u001b[1;33m.\u001b[0m\u001b[0mPolyCollection\u001b[0m\u001b[1;33m(\u001b[0m\u001b[0mpolys\u001b[0m\u001b[1;33m,\u001b[0m \u001b[1;33m**\u001b[0m\u001b[0mkwargs\u001b[0m\u001b[1;33m)\u001b[0m\u001b[1;33m\u001b[0m\u001b[1;33m\u001b[0m\u001b[0m\n\u001b[0m\u001b[0;32m   5288\u001b[0m \u001b[1;33m\u001b[0m\u001b[0m\n\u001b[0;32m   5289\u001b[0m         \u001b[1;31m# now update the datalim and autoscale\u001b[0m\u001b[1;33m\u001b[0m\u001b[1;33m\u001b[0m\u001b[1;33m\u001b[0m\u001b[0m\n",
      "\u001b[1;32mC:\\ProgramData\\Anaconda3\\lib\\site-packages\\matplotlib\\collections.py\u001b[0m in \u001b[0;36m__init__\u001b[1;34m(self, verts, sizes, closed, **kwargs)\u001b[0m\n\u001b[0;32m   1121\u001b[0m             \u001b[0mForwarded\u001b[0m \u001b[0mto\u001b[0m\u001b[0;31m \u001b[0m\u001b[0;31m`\u001b[0m\u001b[1;33m.\u001b[0m\u001b[0mCollection\u001b[0m\u001b[0;31m`\u001b[0m\u001b[1;33m.\u001b[0m\u001b[1;33m\u001b[0m\u001b[1;33m\u001b[0m\u001b[0m\n\u001b[0;32m   1122\u001b[0m         \"\"\"\n\u001b[1;32m-> 1123\u001b[1;33m         \u001b[0mCollection\u001b[0m\u001b[1;33m.\u001b[0m\u001b[0m__init__\u001b[0m\u001b[1;33m(\u001b[0m\u001b[0mself\u001b[0m\u001b[1;33m,\u001b[0m \u001b[1;33m**\u001b[0m\u001b[0mkwargs\u001b[0m\u001b[1;33m)\u001b[0m\u001b[1;33m\u001b[0m\u001b[1;33m\u001b[0m\u001b[0m\n\u001b[0m\u001b[0;32m   1124\u001b[0m         \u001b[0mself\u001b[0m\u001b[1;33m.\u001b[0m\u001b[0mset_sizes\u001b[0m\u001b[1;33m(\u001b[0m\u001b[0msizes\u001b[0m\u001b[1;33m)\u001b[0m\u001b[1;33m\u001b[0m\u001b[1;33m\u001b[0m\u001b[0m\n\u001b[0;32m   1125\u001b[0m         \u001b[0mself\u001b[0m\u001b[1;33m.\u001b[0m\u001b[0mset_verts\u001b[0m\u001b[1;33m(\u001b[0m\u001b[0mverts\u001b[0m\u001b[1;33m,\u001b[0m \u001b[0mclosed\u001b[0m\u001b[1;33m)\u001b[0m\u001b[1;33m\u001b[0m\u001b[1;33m\u001b[0m\u001b[0m\n",
      "\u001b[1;32mC:\\ProgramData\\Anaconda3\\lib\\site-packages\\matplotlib\\cbook\\deprecation.py\u001b[0m in \u001b[0;36mwrapper\u001b[1;34m(*inner_args, **inner_kwargs)\u001b[0m\n\u001b[0;32m    409\u001b[0m                          \u001b[1;32melse\u001b[0m \u001b[0mdeprecation_addendum\u001b[0m\u001b[1;33m,\u001b[0m\u001b[1;33m\u001b[0m\u001b[1;33m\u001b[0m\u001b[0m\n\u001b[0;32m    410\u001b[0m                 **kwargs)\n\u001b[1;32m--> 411\u001b[1;33m         \u001b[1;32mreturn\u001b[0m \u001b[0mfunc\u001b[0m\u001b[1;33m(\u001b[0m\u001b[1;33m*\u001b[0m\u001b[0minner_args\u001b[0m\u001b[1;33m,\u001b[0m \u001b[1;33m**\u001b[0m\u001b[0minner_kwargs\u001b[0m\u001b[1;33m)\u001b[0m\u001b[1;33m\u001b[0m\u001b[1;33m\u001b[0m\u001b[0m\n\u001b[0m\u001b[0;32m    412\u001b[0m \u001b[1;33m\u001b[0m\u001b[0m\n\u001b[0;32m    413\u001b[0m     \u001b[1;32mreturn\u001b[0m \u001b[0mwrapper\u001b[0m\u001b[1;33m\u001b[0m\u001b[1;33m\u001b[0m\u001b[0m\n",
      "\u001b[1;32mC:\\ProgramData\\Anaconda3\\lib\\site-packages\\matplotlib\\collections.py\u001b[0m in \u001b[0;36m__init__\u001b[1;34m(self, edgecolors, facecolors, linewidths, linestyles, capstyle, joinstyle, antialiaseds, offsets, transOffset, norm, cmap, pickradius, hatch, urls, offset_position, zorder, **kwargs)\u001b[0m\n\u001b[0;32m    211\u001b[0m \u001b[1;33m\u001b[0m\u001b[0m\n\u001b[0;32m    212\u001b[0m         \u001b[0mself\u001b[0m\u001b[1;33m.\u001b[0m\u001b[0m_path_effects\u001b[0m \u001b[1;33m=\u001b[0m \u001b[1;32mNone\u001b[0m\u001b[1;33m\u001b[0m\u001b[1;33m\u001b[0m\u001b[0m\n\u001b[1;32m--> 213\u001b[1;33m         \u001b[0mself\u001b[0m\u001b[1;33m.\u001b[0m\u001b[0mupdate\u001b[0m\u001b[1;33m(\u001b[0m\u001b[0mkwargs\u001b[0m\u001b[1;33m)\u001b[0m\u001b[1;33m\u001b[0m\u001b[1;33m\u001b[0m\u001b[0m\n\u001b[0m\u001b[0;32m    214\u001b[0m         \u001b[0mself\u001b[0m\u001b[1;33m.\u001b[0m\u001b[0m_paths\u001b[0m \u001b[1;33m=\u001b[0m \u001b[1;32mNone\u001b[0m\u001b[1;33m\u001b[0m\u001b[1;33m\u001b[0m\u001b[0m\n\u001b[0;32m    215\u001b[0m \u001b[1;33m\u001b[0m\u001b[0m\n",
      "\u001b[1;32mC:\\ProgramData\\Anaconda3\\lib\\site-packages\\matplotlib\\artist.py\u001b[0m in \u001b[0;36mupdate\u001b[1;34m(self, props)\u001b[0m\n\u001b[0;32m    994\u001b[0m                     \u001b[0mfunc\u001b[0m \u001b[1;33m=\u001b[0m \u001b[0mgetattr\u001b[0m\u001b[1;33m(\u001b[0m\u001b[0mself\u001b[0m\u001b[1;33m,\u001b[0m \u001b[1;34mf\"set_{k}\"\u001b[0m\u001b[1;33m,\u001b[0m \u001b[1;32mNone\u001b[0m\u001b[1;33m)\u001b[0m\u001b[1;33m\u001b[0m\u001b[1;33m\u001b[0m\u001b[0m\n\u001b[0;32m    995\u001b[0m                     \u001b[1;32mif\u001b[0m \u001b[1;32mnot\u001b[0m \u001b[0mcallable\u001b[0m\u001b[1;33m(\u001b[0m\u001b[0mfunc\u001b[0m\u001b[1;33m)\u001b[0m\u001b[1;33m:\u001b[0m\u001b[1;33m\u001b[0m\u001b[1;33m\u001b[0m\u001b[0m\n\u001b[1;32m--> 996\u001b[1;33m                         raise AttributeError(f\"{type(self).__name__!r} object \"\n\u001b[0m\u001b[0;32m    997\u001b[0m                                              f\"has no property {k!r}\")\n\u001b[0;32m    998\u001b[0m                     \u001b[0mret\u001b[0m\u001b[1;33m.\u001b[0m\u001b[0mappend\u001b[0m\u001b[1;33m(\u001b[0m\u001b[0mfunc\u001b[0m\u001b[1;33m(\u001b[0m\u001b[0mv\u001b[0m\u001b[1;33m)\u001b[0m\u001b[1;33m)\u001b[0m\u001b[1;33m\u001b[0m\u001b[1;33m\u001b[0m\u001b[0m\n",
      "\u001b[1;31mAttributeError\u001b[0m: 'PolyCollection' object has no property 'rug'"
     ]
    },
    {
     "data": {
      "image/png": "[encoded data removed]",
      "text/plain": [
       "<Figure size 720x720 with 2 Axes>"
      ]
     },
     "metadata": {
      "needs_background": "light"
     },
     "output_type": "display_data"
    }
   ],
   "source": [
    "fig_mmbtu_kde, axes_mmbtu_kde = plt.subplots(2,\n",
    "                                            figsize=(10, 10))\n",
    "\n",
    "sns.kdeplot(x=\"total_mmbtu_high\",\n",
    "            cut=0,\n",
    "            ax=axes_mmbtu_kde[0],\n",
    "            rug=True,\n",
    "            fill=True,\n",
    "            color=\"royalblue\",\n",
    "           data=clean_heat)"
   ]
  },
  {
   "cell_type": "markdown",
   "metadata": {},
   "source": [
    "<img src=\"https://www.simplilearn.com/ice9/free_resources_article_thumb/super.jpg\"> <a id=2></a>\n",
    "\n",
    "## K-Nearest Neighbors (KNN)\n",
    "\n",
    "KNN is simple yet performant supervised machine learning algorithm.\n",
    "\n",
    "Let's say we have a problem where we're trying to label an unknown point, p, that may be _red_ or _blue_. A reasonable approach is to look at the p's _nearest neighbors._ If the point is closest to more blue then we classify it as blue and vice versa for red. We decide based on the _k_ nearest neighbors. For example, if the point is near three red with a _k_ of five then we can reasonably assume that p is red with a 60% chance (that is, $\\frac{3}{5}=.6$).\n",
    "\n",
    "In other words, birds of a feather flock together. Despite the seeming simplicity, KNN is a remarkably good algorithm. Let's look at a simple model to try out KNN.\n",
    "\n",
    "## The scikit-learn workflow via a simple model\n",
    "\n",
    "* Clean the data\n",
    "* Split data into training and test sets\n",
    "* Apply preprocessing such as scaling the variables to the training set\n",
    "* Choose a model type that best represents the problem domain\n",
    "* Tune the model's hyper parameters\n",
    "* Fit and test model's robustness on the test set\n",
    "\n",
    "Let's split the data into training and set sets using scikit-learn. The function [train_test_split](https://scikit-learn.org/stable/modules/generated/sklearn.model_selection.train_test_split.html) shuffles and splits data randomly. Key parameters include:\n",
    "\n",
    "* The X (predictors) and y (response) data.\n",
    "* test_size: a optional number or proportion that indicates the amount of data to include in the test set\n",
    "* train_size: ditto for training\n",
    "* random_state: random seed used to reproduce the split\n",
    "* shuffle: randomly shuffle the data prior to splitting\n",
    "* stratify: sample the data based on the strafication of a certain variable\n",
    "\n",
    "The test size defaults to 25% of the data, but different splits may be applied as well. You also don't need to supply both the _test_size_ and _train_size_ parameters as _train_size_ defaults to the complement of _test_size_.\n",
    "\n",
    "Stratification is useful when classes are imbalanced. For example, we may stratify on an imbalanced response for consistency or else we may end up with a training set that is missing some of the classes!"
   ]
  },
  {
   "cell_type": "code",
   "execution_count": 247,
   "metadata": {},
   "outputs": [],
   "source": [
    "from sklearn.model_selection import train_test_split\n",
    "from sklearn.neighbors import KNeighborsClassifier\n",
    "\n",
    "X = Data[['of_bldgs', 'of_floors', 'of_res_units']]\n",
    "y = Data['borough']\n",
    "X_train, X_test, y_train, y_test = train_test_split(X, y, random_state=0)"
   ]
  },
  {
   "cell_type": "code",
   "execution_count": 251,
   "metadata": {},
   "outputs": [],
   "source": [
    "#pass the number of clusters in our data \n",
    "knn = KNeighborsClassifier(n_neighbors = 5)"
   ]
  },
  {
   "cell_type": "code",
   "execution_count": 252,
   "metadata": {},
   "outputs": [
    {
     "data": {
      "text/plain": [
       "KNeighborsClassifier()"
      ]
     },
     "execution_count": 252,
     "metadata": {},
     "output_type": "execute_result"
    }
   ],
   "source": [
    "#train the classifier using training data\n",
    "knn.fit(X_train, y_train)"
   ]
  },
  {
   "cell_type": "code",
   "execution_count": 253,
   "metadata": {},
   "outputs": [
    {
     "data": {
      "text/plain": [
       "0.988"
      ]
     },
     "execution_count": 253,
     "metadata": {},
     "output_type": "execute_result"
    }
   ],
   "source": [
    "#predict the values \n",
    "knn.score(X_test, y_test)"
   ]
  },
  {
   "cell_type": "markdown",
   "metadata": {},
   "source": [
    "The model is 98% accurate. "
   ]
  },
  {
   "cell_type": "code",
   "execution_count": 256,
   "metadata": {},
   "outputs": [],
   "source": [
    "data_prediction = knn.predict([[4, 16, 0]])\n"
   ]
  },
  {
   "cell_type": "code",
   "execution_count": 257,
   "metadata": {},
   "outputs": [
    {
     "ename": "KeyError",
     "evalue": "'Manhattan'",
     "output_type": "error",
     "traceback": [
      "\u001b[1;31m---------------------------------------------------------------------------\u001b[0m",
      "\u001b[1;31mKeyError\u001b[0m                                  Traceback (most recent call last)",
      "\u001b[1;32m<ipython-input-257-a98c85c466a9>\u001b[0m in \u001b[0;36m<module>\u001b[1;34m\u001b[0m\n\u001b[1;32m----> 1\u001b[1;33m \u001b[0mlookup_data\u001b[0m\u001b[1;33m[\u001b[0m\u001b[0mdata_prediction\u001b[0m\u001b[1;33m[\u001b[0m\u001b[1;36m0\u001b[0m\u001b[1;33m]\u001b[0m\u001b[1;33m]\u001b[0m\u001b[1;33m\u001b[0m\u001b[1;33m\u001b[0m\u001b[0m\n\u001b[0m",
      "\u001b[1;31mKeyError\u001b[0m: 'Manhattan'"
     ]
    }
   ],
   "source": [
    "\n",
    "lookup_data[data_prediction[0]]"
   ]
  },
  {
   "cell_type": "code",
   "execution_count": 262,
   "metadata": {},
   "outputs": [],
   "source": [
    "k_range = range(1,18)\n",
    "scores = []\n",
    "\n",
    "for k in k_range:\n",
    "    knn = KNeighborsClassifier(n_neighbors = k)\n",
    "    knn.fit(X_train, y_train)\n",
    "    scores.append(knn.score(X_test, y_test))"
   ]
  },
  {
   "cell_type": "code",
   "execution_count": 263,
   "metadata": {},
   "outputs": [
    {
     "data": {
      "image/png": "[encoded data removed]",
      "text/plain": [
       "<Figure size 432x288 with 1 Axes>"
      ]
     },
     "metadata": {
      "needs_background": "light"
     },
     "output_type": "display_data"
    }
   ],
   "source": [
    "plt.figure()\n",
    "plt.xlabel('k')\n",
    "plt.ylabel('accuracy')\n",
    "plt.scatter(k_range, scores)\n",
    "plt.xticks([0,3,6,9,12, 15, 18]);"
   ]
  },
  {
   "cell_type": "code",
   "execution_count": null,
   "metadata": {},
   "outputs": [],
   "source": []
  },
  {
   "cell_type": "code",
   "execution_count": 266,
   "metadata": {},
   "outputs": [],
   "source": [
    "t = [0.984, 0.985, 0.986, 0.987, 0.989, 0.990, 0.991]\n",
    "\n",
    "knn = KNeighborsClassifier(n_neighbors = 3)"
   ]
  },
  {
   "cell_type": "code",
   "execution_count": 267,
   "metadata": {},
   "outputs": [
    {
     "data": {
      "image/png": "[encoded data removed]",
      "text/plain": [
       "<Figure size 432x288 with 1 Axes>"
      ]
     },
     "metadata": {
      "needs_background": "light"
     },
     "output_type": "display_data"
    }
   ],
   "source": [
    "plt.figure()\n",
    "\n",
    "for s in t:\n",
    "\n",
    "    scores = [] #List for scores, but reset with each value in the list, t\n",
    "    for i in range(1,1000): #Train for a 1,000 iterations \n",
    "        X_train, X_test, y_train, y_test = train_test_split(X, y, test_size = 1-s)\n",
    "        knn.fit(X_train, y_train)\n",
    "        scores.append(knn.score(X_test, y_test)) #Append scores\n",
    "    plt.plot(s, np.mean(scores), 'bo') #Save the average value of these scores for this value in t\n",
    "\n",
    "plt.xlabel('Training set proportion (%)')\n",
    "plt.ylabel('accuracy');"
   ]
  },
  {
   "cell_type": "markdown",
   "metadata": {},
   "source": [
    "## Your Turn \n",
    "\n",
    "Please give the participants some challange"
   ]
  },
  {
   "cell_type": "code",
   "execution_count": null,
   "metadata": {},
   "outputs": [],
   "source": []
  },
  {
   "cell_type": "markdown",
   "metadata": {},
   "source": [
    "\n",
    "<img src=\"https://www.simplilearn.com/ice9/free_resources_article_thumb/unsup.jpg\"> <a id=3></a>\n",
    "\n",
    "## PCA "
   ]
  },
  {
   "cell_type": "code",
   "execution_count": 223,
   "metadata": {},
   "outputs": [
    {
     "data": {
      "text/html": [
       "<div>\n",
       "<style scoped>\n",
       "    .dataframe tbody tr th:only-of-type {\n",
       "        vertical-align: middle;\n",
       "    }\n",
       "\n",
       "    .dataframe tbody tr th {\n",
       "        vertical-align: top;\n",
       "    }\n",
       "\n",
       "    .dataframe thead th {\n",
       "        text-align: right;\n",
       "    }\n",
       "</style>\n",
       "<table border=\"1\" class=\"dataframe\">\n",
       "  <thead>\n",
       "    <tr style=\"text-align: right;\">\n",
       "      <th></th>\n",
       "      <th>pub_dt</th>\n",
       "      <th>fisc_yr</th>\n",
       "      <th>agy_nm</th>\n",
       "      <th>exp</th>\n",
       "      <th>cap_repr</th>\n",
       "      <th>cap_mgtn</th>\n",
       "    </tr>\n",
       "  </thead>\n",
       "  <tbody>\n",
       "    <tr>\n",
       "      <th>0</th>\n",
       "      <td>20200416</td>\n",
       "      <td>2021</td>\n",
       "      <td>Health and Hospitals Corporation</td>\n",
       "      <td>1.228660e+08</td>\n",
       "      <td>9.834587e+08</td>\n",
       "      <td>7.568733e+08</td>\n",
       "    </tr>\n",
       "    <tr>\n",
       "      <th>1</th>\n",
       "      <td>20200416</td>\n",
       "      <td>2021</td>\n",
       "      <td>Department of Parks and Recreation</td>\n",
       "      <td>9.447368e+07</td>\n",
       "      <td>7.748664e+08</td>\n",
       "      <td>2.451435e+08</td>\n",
       "    </tr>\n",
       "    <tr>\n",
       "      <th>2</th>\n",
       "      <td>20200416</td>\n",
       "      <td>2021</td>\n",
       "      <td>Department of Environmental Protection</td>\n",
       "      <td>6.169037e+08</td>\n",
       "      <td>2.635274e+08</td>\n",
       "      <td>2.948563e+08</td>\n",
       "    </tr>\n",
       "    <tr>\n",
       "      <th>3</th>\n",
       "      <td>20200416</td>\n",
       "      <td>2021</td>\n",
       "      <td>Department of Education / School Construction ...</td>\n",
       "      <td>9.488819e+07</td>\n",
       "      <td>5.443869e+08</td>\n",
       "      <td>1.916224e+08</td>\n",
       "    </tr>\n",
       "    <tr>\n",
       "      <th>4</th>\n",
       "      <td>20200416</td>\n",
       "      <td>2021</td>\n",
       "      <td>Department of Transportation</td>\n",
       "      <td>1.049950e+07</td>\n",
       "      <td>1.274047e+08</td>\n",
       "      <td>4.604212e+06</td>\n",
       "    </tr>\n",
       "    <tr>\n",
       "      <th>5</th>\n",
       "      <td>20200416</td>\n",
       "      <td>2021</td>\n",
       "      <td>Police Department</td>\n",
       "      <td>2.021640e+08</td>\n",
       "      <td>8.080028e+07</td>\n",
       "      <td>1.132206e+07</td>\n",
       "    </tr>\n",
       "    <tr>\n",
       "      <th>6</th>\n",
       "      <td>20200416</td>\n",
       "      <td>2021</td>\n",
       "      <td>Fire Department</td>\n",
       "      <td>2.547157e+07</td>\n",
       "      <td>1.996169e+08</td>\n",
       "      <td>4.047178e+06</td>\n",
       "    </tr>\n",
       "    <tr>\n",
       "      <th>7</th>\n",
       "      <td>20200416</td>\n",
       "      <td>2021</td>\n",
       "      <td>Department of Sanitation</td>\n",
       "      <td>1.771236e+08</td>\n",
       "      <td>2.905189e+07</td>\n",
       "      <td>1.100613e+07</td>\n",
       "    </tr>\n",
       "    <tr>\n",
       "      <th>8</th>\n",
       "      <td>20200416</td>\n",
       "      <td>2021</td>\n",
       "      <td>Department of Cultural Affairs</td>\n",
       "      <td>1.169097e+06</td>\n",
       "      <td>1.218306e+08</td>\n",
       "      <td>6.926632e+07</td>\n",
       "    </tr>\n",
       "    <tr>\n",
       "      <th>9</th>\n",
       "      <td>20200416</td>\n",
       "      <td>2021</td>\n",
       "      <td>Department of Corrections</td>\n",
       "      <td>3.375761e+06</td>\n",
       "      <td>7.047919e+07</td>\n",
       "      <td>1.498538e+07</td>\n",
       "    </tr>\n",
       "    <tr>\n",
       "      <th>10</th>\n",
       "      <td>20200416</td>\n",
       "      <td>2021</td>\n",
       "      <td>Economic Development Corporation</td>\n",
       "      <td>3.323528e+06</td>\n",
       "      <td>1.291900e+08</td>\n",
       "      <td>1.069164e+07</td>\n",
       "    </tr>\n",
       "    <tr>\n",
       "      <th>11</th>\n",
       "      <td>20200416</td>\n",
       "      <td>2021</td>\n",
       "      <td>Other City Agencies</td>\n",
       "      <td>1.705392e+08</td>\n",
       "      <td>2.843052e+08</td>\n",
       "      <td>2.529422e+07</td>\n",
       "    </tr>\n",
       "    <tr>\n",
       "      <th>12</th>\n",
       "      <td>20200416</td>\n",
       "      <td>2021</td>\n",
       "      <td>New York City Housing Authority</td>\n",
       "      <td>2.679783e+08</td>\n",
       "      <td>1.454958e+09</td>\n",
       "      <td>1.458092e+09</td>\n",
       "    </tr>\n",
       "  </tbody>\n",
       "</table>\n",
       "</div>"
      ],
      "text/plain": [
       "      pub_dt  fisc_yr                                             agy_nm  \\\n",
       "0   20200416     2021                   Health and Hospitals Corporation   \n",
       "1   20200416     2021                 Department of Parks and Recreation   \n",
       "2   20200416     2021             Department of Environmental Protection   \n",
       "3   20200416     2021  Department of Education / School Construction ...   \n",
       "4   20200416     2021                       Department of Transportation   \n",
       "5   20200416     2021                                  Police Department   \n",
       "6   20200416     2021                                    Fire Department   \n",
       "7   20200416     2021                           Department of Sanitation   \n",
       "8   20200416     2021                     Department of Cultural Affairs   \n",
       "9   20200416     2021                          Department of Corrections   \n",
       "10  20200416     2021                   Economic Development Corporation   \n",
       "11  20200416     2021                                Other City Agencies   \n",
       "12  20200416     2021                    New York City Housing Authority   \n",
       "\n",
       "             exp      cap_repr      cap_mgtn  \n",
       "0   1.228660e+08  9.834587e+08  7.568733e+08  \n",
       "1   9.447368e+07  7.748664e+08  2.451435e+08  \n",
       "2   6.169037e+08  2.635274e+08  2.948563e+08  \n",
       "3   9.488819e+07  5.443869e+08  1.916224e+08  \n",
       "4   1.049950e+07  1.274047e+08  4.604212e+06  \n",
       "5   2.021640e+08  8.080028e+07  1.132206e+07  \n",
       "6   2.547157e+07  1.996169e+08  4.047178e+06  \n",
       "7   1.771236e+08  2.905189e+07  1.100613e+07  \n",
       "8   1.169097e+06  1.218306e+08  6.926632e+07  \n",
       "9   3.375761e+06  7.047919e+07  1.498538e+07  \n",
       "10  3.323528e+06  1.291900e+08  1.069164e+07  \n",
       "11  1.705392e+08  2.843052e+08  2.529422e+07  \n",
       "12  2.679783e+08  1.454958e+09  1.458092e+09  "
      ]
     },
     "execution_count": 223,
     "metadata": {},
     "output_type": "execute_result"
    }
   ],
   "source": [
    "Data = pd.read_json(\"https://data.cityofnewyork.us/resource/h5f7-3btz.json\")\n",
    "\n",
    "Data\n",
    "\n"
   ]
  },
  {
   "cell_type": "code",
   "execution_count": 224,
   "metadata": {},
   "outputs": [],
   "source": [
    "#Standardize the Data"
   ]
  },
  {
   "cell_type": "code",
   "execution_count": 225,
   "metadata": {},
   "outputs": [],
   "source": [
    "from sklearn.preprocessing import StandardScaler"
   ]
  },
  {
   "cell_type": "code",
   "execution_count": 226,
   "metadata": {},
   "outputs": [],
   "source": [
    "x = Data[['exp', 'cap_repr', 'cap_mgtn']]"
   ]
  },
  {
   "cell_type": "code",
   "execution_count": 227,
   "metadata": {},
   "outputs": [],
   "source": [
    "y = Data[['agy_nm']]"
   ]
  },
  {
   "cell_type": "code",
   "execution_count": 228,
   "metadata": {},
   "outputs": [],
   "source": [
    "x = StandardScaler().fit_transform(x)"
   ]
  },
  {
   "cell_type": "code",
   "execution_count": 229,
   "metadata": {},
   "outputs": [],
   "source": [
    "from sklearn.decomposition import PCA\n",
    "pca = PCA(n_components=2) #Set up the model, and we only want to collapse these data into two dimensions. \n",
    "principalComponents = pca.fit_transform(x) #Take our data--saved as x--and run the model."
   ]
  },
  {
   "cell_type": "code",
   "execution_count": 230,
   "metadata": {},
   "outputs": [],
   "source": [
    "#Now let's take the results--saved as principalComponents--and save it to a DataFrame.\n",
    "principalDf = pd.DataFrame(data = principalComponents\n",
    "             , columns = ['principal component 1', 'principal component 2'])"
   ]
  },
  {
   "cell_type": "code",
   "execution_count": 231,
   "metadata": {},
   "outputs": [],
   "source": [
    "finalDf = pd.concat([principalDf, Data[['agy_nm']]], axis = 1)"
   ]
  },
  {
   "cell_type": "code",
   "execution_count": 232,
   "metadata": {},
   "outputs": [
    {
     "data": {
      "text/html": [
       "<div>\n",
       "<style scoped>\n",
       "    .dataframe tbody tr th:only-of-type {\n",
       "        vertical-align: middle;\n",
       "    }\n",
       "\n",
       "    .dataframe tbody tr th {\n",
       "        vertical-align: top;\n",
       "    }\n",
       "\n",
       "    .dataframe thead th {\n",
       "        text-align: right;\n",
       "    }\n",
       "</style>\n",
       "<table border=\"1\" class=\"dataframe\">\n",
       "  <thead>\n",
       "    <tr style=\"text-align: right;\">\n",
       "      <th></th>\n",
       "      <th>principal component 1</th>\n",
       "      <th>principal component 2</th>\n",
       "      <th>agy_nm</th>\n",
       "    </tr>\n",
       "  </thead>\n",
       "  <tbody>\n",
       "    <tr>\n",
       "      <th>0</th>\n",
       "      <td>1.763721</td>\n",
       "      <td>-0.742329</td>\n",
       "      <td>Health and Hospitals Corporation</td>\n",
       "    </tr>\n",
       "    <tr>\n",
       "      <th>1</th>\n",
       "      <td>0.525637</td>\n",
       "      <td>-0.545801</td>\n",
       "      <td>Department of Parks and Recreation</td>\n",
       "    </tr>\n",
       "    <tr>\n",
       "      <th>2</th>\n",
       "      <td>0.896682</td>\n",
       "      <td>2.839576</td>\n",
       "      <td>Department of Environmental Protection</td>\n",
       "    </tr>\n",
       "    <tr>\n",
       "      <th>3</th>\n",
       "      <td>0.075826</td>\n",
       "      <td>-0.346903</td>\n",
       "      <td>Department of Education / School Construction ...</td>\n",
       "    </tr>\n",
       "    <tr>\n",
       "      <th>4</th>\n",
       "      <td>-1.065777</td>\n",
       "      <td>-0.442990</td>\n",
       "      <td>Department of Transportation</td>\n",
       "    </tr>\n",
       "  </tbody>\n",
       "</table>\n",
       "</div>"
      ],
      "text/plain": [
       "   principal component 1  principal component 2  \\\n",
       "0               1.763721              -0.742329   \n",
       "1               0.525637              -0.545801   \n",
       "2               0.896682               2.839576   \n",
       "3               0.075826              -0.346903   \n",
       "4              -1.065777              -0.442990   \n",
       "\n",
       "                                              agy_nm  \n",
       "0                   Health and Hospitals Corporation  \n",
       "1                 Department of Parks and Recreation  \n",
       "2             Department of Environmental Protection  \n",
       "3  Department of Education / School Construction ...  \n",
       "4                       Department of Transportation  "
      ]
     },
     "execution_count": 232,
     "metadata": {},
     "output_type": "execute_result"
    }
   ],
   "source": [
    "finalDf.head()"
   ]
  },
  {
   "cell_type": "code",
   "execution_count": 233,
   "metadata": {},
   "outputs": [],
   "source": [
    "%matplotlib inline\n",
    "import matplotlib.pyplot as plt\n",
    "import numpy as np"
   ]
  },
  {
   "cell_type": "code",
   "execution_count": 234,
   "metadata": {},
   "outputs": [
    {
     "data": {
      "image/png": "[encoded data removed]",
      "text/plain": [
       "<Figure size 576x576 with 1 Axes>"
      ]
     },
     "metadata": {
      "needs_background": "light"
     },
     "output_type": "display_data"
    }
   ],
   "source": [
    "fig = plt.figure(figsize = (8,8))\n",
    "ax = fig.add_subplot(1,1,1) \n",
    "ax.set_xlabel('Principal Component 1', fontsize = 15)\n",
    "ax.set_ylabel('Principal Component 2', fontsize = 15)\n",
    "ax.set_title('2 component PCA', fontsize = 20)\n",
    "agy_nm = ['exp', 'cap_repr', 'cap_mgtn']\n",
    "colors = ['r', 'g', 'b']\n",
    "for agy_nm, color in zip(agy_nm,colors):\n",
    "    indicesToKeep = finalDf['agy_nm'] == agy_nm\n",
    "    ax.scatter(finalDf.loc[indicesToKeep, 'principal component 1']\n",
    "               , finalDf.loc[indicesToKeep, 'principal component 2']\n",
    "               , c = color\n",
    "               , s = 50)\n",
    "ax.legend(agy_nm)\n",
    "ax.grid()"
   ]
  },
  {
   "cell_type": "code",
   "execution_count": null,
   "metadata": {},
   "outputs": [],
   "source": []
  },
  {
   "cell_type": "code",
   "execution_count": null,
   "metadata": {},
   "outputs": [],
   "source": []
  },
  {
   "cell_type": "code",
   "execution_count": null,
   "metadata": {},
   "outputs": [],
   "source": []
  },
  {
   "cell_type": "code",
   "execution_count": null,
   "metadata": {},
   "outputs": [],
   "source": []
  },
  {
   "cell_type": "code",
   "execution_count": null,
   "metadata": {},
   "outputs": [],
   "source": []
  }
 ],
 "metadata": {
  "kernelspec": {
   "display_name": "Python 3",
   "language": "python",
   "name": "python3"
  },
  "language_info": {
   "codemirror_mode": {
    "name": "ipython",
    "version": 3
   },
   "file_extension": ".py",
   "mimetype": "text/x-python",
   "name": "python",
   "nbconvert_exporter": "python",
   "pygments_lexer": "ipython3",
   "version": "3.7.9"
  }
 },
 "nbformat": 4,
 "nbformat_minor": 4
}
