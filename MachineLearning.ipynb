{
 "cells": [
  {
   "cell_type": "markdown",
   "metadata": {},
   "source": [
    "<h1 style=\"text-align:center\"> NYC Open Data Week at TIQC</h1>\n",
    "<h2 style=\"text-align:center\"> Machine Learning</h2>"
   ]
  },
  {
   "cell_type": "markdown",
   "metadata": {},
   "source": [
    "<img src=\"https://scikit-learn.org/stable/_static/scikit-learn-logo-small.png\" width=\"200px\" height=\"200px\" align=\"center\" >\n",
    "\n",
    "<img src=\"https://opendata.cityofnewyork.us/wp-content/themes/opendata-wp/assets/img/nyc-open-data-logo.svg\" width=\"200px\" height=\"200px\" align=\"left\" >\n",
    "\n",
    "<img src=\"https://techincubatorqc.com/wp-content/uploads/2020/02/cropped-TechIncubator_web_black_red_logo-1.png\" width=\"200px\" height=\"200px\" align=\"right\" padding=\"top\" >\n",
    "\n"
   ]
  },
  {
   "cell_type": "markdown",
   "metadata": {},
   "source": [
    "Machine learning involves building mathematical models to help\n",
    "understand data. “Learning” enters the fray when we give these models tunable\n",
    "parameters that can be adapted to observed data; in this way the program can be considered\n",
    "to be “learning” from the data. Once these models have been fit to previously\n",
    "seen data, they can be used to predict and understand aspects of newly observed data.\n",
    "\n",
    "## Categories of Machine Learning\n",
    "\n",
    "**Supervised learning** involves somehow modeling the relationship between measured\n",
    "features of data and some label associated with the data; once this model is determined,\n",
    "it can be used to apply labels to new, unknown data. This is further subdivided\n",
    "into classification tasks and regression tasks: in classification, the labels are\n",
    "discrete categories, while in regression, the labels are continuous quantities. We will\n",
    "see examples of both types of supervised learning in the following section.<br>\n",
    "\n",
    "**Unsupervised learning** involves modeling the features of a dataset without reference to\n",
    "any label, and is often described as “letting the dataset speak for itself.” These models\n",
    "include tasks such as clustering and dimensionality reduction. Clustering algorithms identify distinct groups of data, while dimensionality reduction algorithms search for\n",
    "more succinct representations of the data. We will see examples of both types of\n",
    "unsupervised learning in the following section.\n",
    "\n",
    "**Semi-supervised learning methods**, which fall somewhere\n",
    "between supervised learning and unsupervised learning. Semi-supervised\n",
    "learning methods are often useful when only incomplete labels are available.\n",
    "\n",
    "Terminology to discuss: overfitting and complexity, inference vs prediction\n",
    "\n",
    "Source: [Python Data Science Handbook](https://www.oreilly.com/library/view/python-data-science/9781491912126)"
   ]
  },
  {
   "cell_type": "markdown",
   "metadata": {},
   "source": [
    "# Table of Contents\n",
    "\n",
    "<div class = \"alert alert-info\">\n",
    "\n",
    "1. [EDA](#1)<br>\n",
    "    \n",
    "2. [Supervised Machine Learning](#2)<br>\n",
    "    \n",
    "3. [Unsupervised Machine Learning](#3) <br>\n",
    "  \n",
    "  \n",
    "\n",
    "</div>\n",
    "<hr>"
   ]
  },
  {
   "cell_type": "markdown",
   "metadata": {},
   "source": [
    "## The Greener, Greater Buildings historical data set\n",
    "\n",
    "New York's [Greener, Greater Buildings](https://www.nyc.gov/html/gbee/downloads/pdf/greener_greater_buildings_plan.pdf) program is a sustainable growth iniative that aims to reduce greenhouse gas emissions by 30%. The program focusses on large buildings which consume the most resources. The stewards of these buildings must annually release public benchmarks of water and energy use. The buildings will also go through retro commissioning and audits every decade to help reduce resource use. Finally, non-commercial residential buildings must meet improved lighting codes.\n",
    "\n",
    "The open data sample contains 1000 observations of the energy use of buildings across New York City. The data contain information on the building's borough, neighborhood, owner, address, boiler type, fuel used, square footage, energy use, as well as if the building is part of the initative. Some of the features are a bit messy with miscoded values or types that are parsed incorrectly as Strings rather than numbers. \n",
    "\n",
    "## Exploratory Data Analysis<a id=1></a>"
   ]
  },
  {
   "cell_type": "code",
   "execution_count": 1,
   "metadata": {},
   "outputs": [],
   "source": [
    "# Workshop libraries\n",
    "import pandas as pd \n",
    "import numpy as np\n",
    "import matplotlib.pyplot as plt\n",
    "import seaborn as sns\n",
    "from sklearn.model_selection import train_test_split\n",
    "\n",
    "# Note: The pre requisite of this workshop is that participants pre-install the required libraries and Anaconda."
   ]
  },
  {
   "cell_type": "markdown",
   "metadata": {},
   "source": [
    "# Importing the Open NYC data"
   ]
  },
  {
   "cell_type": "code",
   "execution_count": 2,
   "metadata": {},
   "outputs": [
    {
     "data": {
      "text/html": [
       "<div>\n",
       "<style scoped>\n",
       "    .dataframe tbody tr th:only-of-type {\n",
       "        vertical-align: middle;\n",
       "    }\n",
       "\n",
       "    .dataframe tbody tr th {\n",
       "        vertical-align: top;\n",
       "    }\n",
       "\n",
       "    .dataframe thead th {\n",
       "        text-align: right;\n",
       "    }\n",
       "</style>\n",
       "<table border=\"1\" class=\"dataframe\">\n",
       "  <thead>\n",
       "    <tr style=\"text-align: right;\">\n",
       "      <th></th>\n",
       "      <th>borough_block_lot</th>\n",
       "      <th>street_address</th>\n",
       "      <th>zip_code</th>\n",
       "      <th>borough</th>\n",
       "      <th>utility</th>\n",
       "      <th>building_manager</th>\n",
       "      <th>owner</th>\n",
       "      <th>owner_address</th>\n",
       "      <th>owner_telephone</th>\n",
       "      <th>dep_boiler_application</th>\n",
       "      <th>...</th>\n",
       "      <th>total_units</th>\n",
       "      <th>year_built</th>\n",
       "      <th>latitude</th>\n",
       "      <th>longitude</th>\n",
       "      <th>census_tract</th>\n",
       "      <th>bin</th>\n",
       "      <th>bbl</th>\n",
       "      <th>nta</th>\n",
       "      <th>coop</th>\n",
       "      <th>condo</th>\n",
       "    </tr>\n",
       "  </thead>\n",
       "  <tbody>\n",
       "    <tr>\n",
       "      <th>0</th>\n",
       "      <td>1008120001</td>\n",
       "      <td>155 WEST 36 STREET</td>\n",
       "      <td>10018.0</td>\n",
       "      <td>Manhattan</td>\n",
       "      <td>Con Edison</td>\n",
       "      <td>485 7 AVE.ASSOC./COLLIERS</td>\n",
       "      <td>485 SHUR LLC</td>\n",
       "      <td>485 7 AVENUE#777, MANHATTAN NY 10018</td>\n",
       "      <td>212-971-4000</td>\n",
       "      <td>CA160181H</td>\n",
       "      <td>...</td>\n",
       "      <td>70</td>\n",
       "      <td>1906</td>\n",
       "      <td>40.751828</td>\n",
       "      <td>-73.988595</td>\n",
       "      <td>109.0</td>\n",
       "      <td>1015235.0</td>\n",
       "      <td>1.008128e+09</td>\n",
       "      <td>Midtown-Midtown South</td>\n",
       "      <td>NaN</td>\n",
       "      <td>NaN</td>\n",
       "    </tr>\n",
       "    <tr>\n",
       "      <th>1</th>\n",
       "      <td>1008340048</td>\n",
       "      <td>330 5 AVENUE</td>\n",
       "      <td>10001.0</td>\n",
       "      <td>Manhattan</td>\n",
       "      <td>Con Edison</td>\n",
       "      <td>SKYLER 330 LLCC/O SHULSKY PROPERTIES INC.</td>\n",
       "      <td>SHULSKY PROPERTIES INC.</td>\n",
       "      <td>307 FITH AVE, NY NY 10016</td>\n",
       "      <td>212 984-8370</td>\n",
       "      <td>CA323565K</td>\n",
       "      <td>...</td>\n",
       "      <td>62</td>\n",
       "      <td>1926</td>\n",
       "      <td>40.747521</td>\n",
       "      <td>-73.985239</td>\n",
       "      <td>76.0</td>\n",
       "      <td>1015853.0</td>\n",
       "      <td>1.008340e+09</td>\n",
       "      <td>Midtown-Midtown South</td>\n",
       "      <td>NaN</td>\n",
       "      <td>NaN</td>\n",
       "    </tr>\n",
       "    <tr>\n",
       "      <th>2</th>\n",
       "      <td>1008390009</td>\n",
       "      <td>49 WEST 37 STREET</td>\n",
       "      <td>10018.0</td>\n",
       "      <td>Manhattan</td>\n",
       "      <td>Con Edison</td>\n",
       "      <td>49 W 37 ST REALTY CO</td>\n",
       "      <td>49 W 37TH ST REALTY CO</td>\n",
       "      <td>440 PARK AVENUE SOUTH, MANHATTAN NY 10016</td>\n",
       "      <td>212 685-6400</td>\n",
       "      <td>CA145582N</td>\n",
       "      <td>...</td>\n",
       "      <td>24</td>\n",
       "      <td>1925</td>\n",
       "      <td>40.751018</td>\n",
       "      <td>-73.984758</td>\n",
       "      <td>84.0</td>\n",
       "      <td>1015958.0</td>\n",
       "      <td>1.008390e+09</td>\n",
       "      <td>Midtown-Midtown South</td>\n",
       "      <td>NaN</td>\n",
       "      <td>NaN</td>\n",
       "    </tr>\n",
       "    <tr>\n",
       "      <th>3</th>\n",
       "      <td>1008670001</td>\n",
       "      <td>411 5 AVENUE</td>\n",
       "      <td>10016.0</td>\n",
       "      <td>Manhattan</td>\n",
       "      <td>Con Edison</td>\n",
       "      <td>ADMS&amp; CO. REAL ESTATE</td>\n",
       "      <td>ADAMS &amp; CO. LLC/FRED LIGUORI</td>\n",
       "      <td>411 5 AVENUE, MANHATTAN NY 10016</td>\n",
       "      <td>212-679-5500</td>\n",
       "      <td>CA417870Y</td>\n",
       "      <td>...</td>\n",
       "      <td>1</td>\n",
       "      <td>1915</td>\n",
       "      <td>40.750430</td>\n",
       "      <td>-73.983098</td>\n",
       "      <td>82.0</td>\n",
       "      <td>1017191.0</td>\n",
       "      <td>1.008670e+09</td>\n",
       "      <td>Murray Hill-Kips Bay</td>\n",
       "      <td>NaN</td>\n",
       "      <td>NaN</td>\n",
       "    </tr>\n",
       "    <tr>\n",
       "      <th>4</th>\n",
       "      <td>1022420029</td>\n",
       "      <td>639 WEST 207 STREET</td>\n",
       "      <td>10034.0</td>\n",
       "      <td>Manhattan</td>\n",
       "      <td>Con Edison</td>\n",
       "      <td>WEINER REALTY</td>\n",
       "      <td>PINNACLE WASHINGTON HEIGHTS LLC</td>\n",
       "      <td>P.O.BO. 1920, NEW YORK NY 10116</td>\n",
       "      <td>NaN</td>\n",
       "      <td>CA068682Y</td>\n",
       "      <td>...</td>\n",
       "      <td>58</td>\n",
       "      <td>1925</td>\n",
       "      <td>40.868598</td>\n",
       "      <td>-73.921780</td>\n",
       "      <td>303.0</td>\n",
       "      <td>1064990.0</td>\n",
       "      <td>1.022420e+09</td>\n",
       "      <td>Marble Hill-Inwood</td>\n",
       "      <td>NaN</td>\n",
       "      <td>NaN</td>\n",
       "    </tr>\n",
       "  </tbody>\n",
       "</table>\n",
       "<p>5 rows × 42 columns</p>\n",
       "</div>"
      ],
      "text/plain": [
       "   borough_block_lot       street_address  zip_code    borough     utility  \\\n",
       "0         1008120001   155 WEST 36 STREET   10018.0  Manhattan  Con Edison   \n",
       "1         1008340048         330 5 AVENUE   10001.0  Manhattan  Con Edison   \n",
       "2         1008390009    49 WEST 37 STREET   10018.0  Manhattan  Con Edison   \n",
       "3         1008670001         411 5 AVENUE   10016.0  Manhattan  Con Edison   \n",
       "4         1022420029  639 WEST 207 STREET   10034.0  Manhattan  Con Edison   \n",
       "\n",
       "                            building_manager                            owner  \\\n",
       "0                  485 7 AVE.ASSOC./COLLIERS                     485 SHUR LLC   \n",
       "1  SKYLER 330 LLCC/O SHULSKY PROPERTIES INC.          SHULSKY PROPERTIES INC.   \n",
       "2                       49 W 37 ST REALTY CO           49 W 37TH ST REALTY CO   \n",
       "3                      ADMS& CO. REAL ESTATE     ADAMS & CO. LLC/FRED LIGUORI   \n",
       "4                              WEINER REALTY  PINNACLE WASHINGTON HEIGHTS LLC   \n",
       "\n",
       "                               owner_address owner_telephone  \\\n",
       "0       485 7 AVENUE#777, MANHATTAN NY 10018    212-971-4000   \n",
       "1                  307 FITH AVE, NY NY 10016    212 984-8370   \n",
       "2  440 PARK AVENUE SOUTH, MANHATTAN NY 10016    212 685-6400   \n",
       "3           411 5 AVENUE, MANHATTAN NY 10016    212-679-5500   \n",
       "4            P.O.BO. 1920, NEW YORK NY 10116             NaN   \n",
       "\n",
       "  dep_boiler_application  ...  total_units year_built   latitude  longitude  \\\n",
       "0              CA160181H  ...           70       1906  40.751828 -73.988595   \n",
       "1              CA323565K  ...           62       1926  40.747521 -73.985239   \n",
       "2              CA145582N  ...           24       1925  40.751018 -73.984758   \n",
       "3              CA417870Y  ...            1       1915  40.750430 -73.983098   \n",
       "4              CA068682Y  ...           58       1925  40.868598 -73.921780   \n",
       "\n",
       "   census_tract        bin           bbl                    nta coop  condo  \n",
       "0         109.0  1015235.0  1.008128e+09  Midtown-Midtown South  NaN    NaN  \n",
       "1          76.0  1015853.0  1.008340e+09  Midtown-Midtown South  NaN    NaN  \n",
       "2          84.0  1015958.0  1.008390e+09  Midtown-Midtown South  NaN    NaN  \n",
       "3          82.0  1017191.0  1.008670e+09   Murray Hill-Kips Bay  NaN    NaN  \n",
       "4         303.0  1064990.0  1.022420e+09     Marble Hill-Inwood  NaN    NaN  \n",
       "\n",
       "[5 rows x 42 columns]"
      ]
     },
     "execution_count": 2,
     "metadata": {},
     "output_type": "execute_result"
    }
   ],
   "source": [
    "Data = pd.read_json(\"https://data.cityofnewyork.us/resource/8isn-pgv3.json\")\n",
    "Data.head()"
   ]
  },
  {
   "cell_type": "markdown",
   "metadata": {},
   "source": [
    "<b>Data Provided by</b>\n",
    "Mayor's Office of Sustainability (MOS)<br>\n",
    "Source: https://data.cityofnewyork.us/City-Government/NYC-Clean-Heat-Dataset-Historical-/8isn-pgv3"
   ]
  },
  {
   "cell_type": "code",
   "execution_count": 4,
   "metadata": {},
   "outputs": [
    {
     "data": {
      "text/plain": [
       "Index(['borough_block_lot', 'street_address', 'zip_code', 'borough', 'utility',\n",
       "       'building_manager', 'owner', 'owner_address', 'owner_telephone',\n",
       "       'dep_boiler_application', '_6_deadline', 'boiler_model',\n",
       "       'of_identical_boilers', 'boiler_capacity_gross_btu',\n",
       "       'boiler_installation_date', 'boiler_age_range', 'est_retirement_year',\n",
       "       'burner_model', 'primary_fuel', 'total_gallons_high',\n",
       "       'total_gallons_low', 'total_mmbtu_high', 'total_mmbtu_low',\n",
       "       'greener_greater_buildings', 'ggb_deadline', 'building_type',\n",
       "       'city_council_district', 'city_community_board', 'bldg_sqft',\n",
       "       'of_bldgs', 'of_floors', 'of_res_units', 'total_units', 'year_built',\n",
       "       'latitude', 'longitude', 'census_tract', 'bin', 'bbl', 'nta', 'coop',\n",
       "       'condo'],\n",
       "      dtype='object')"
      ]
     },
     "execution_count": 4,
     "metadata": {},
     "output_type": "execute_result"
    }
   ],
   "source": [
    "Data.columns"
   ]
  },
  {
   "cell_type": "code",
   "execution_count": 245,
   "metadata": {
    "scrolled": true
   },
   "outputs": [
    {
     "name": "stdout",
     "output_type": "stream",
     "text": [
      "<class 'pandas.core.frame.DataFrame'>\n",
      "RangeIndex: 1000 entries, 0 to 999\n",
      "Data columns (total 42 columns):\n",
      " #   Column                     Non-Null Count  Dtype  \n",
      "---  ------                     --------------  -----  \n",
      " 0   borough_block_lot          1000 non-null   int64  \n",
      " 1   street_address             1000 non-null   object \n",
      " 2   zip_code                   999 non-null    float64\n",
      " 3   borough                    1000 non-null   object \n",
      " 4   utility                    1000 non-null   object \n",
      " 5   building_manager           1000 non-null   object \n",
      " 6   owner                      1000 non-null   object \n",
      " 7   owner_address              1000 non-null   object \n",
      " 8   owner_telephone            902 non-null    object \n",
      " 9   dep_boiler_application     1000 non-null   object \n",
      " 10  _6_deadline                1000 non-null   int64  \n",
      " 11  boiler_model               998 non-null    object \n",
      " 12  of_identical_boilers       1000 non-null   int64  \n",
      " 13  boiler_capacity_gross_btu  1000 non-null   float64\n",
      " 14  boiler_installation_date   1000 non-null   int64  \n",
      " 15  boiler_age_range           1000 non-null   object \n",
      " 16  est_retirement_year        1000 non-null   int64  \n",
      " 17  burner_model               1000 non-null   object \n",
      " 18  primary_fuel               1000 non-null   object \n",
      " 19  total_gallons_high         1000 non-null   int64  \n",
      " 20  total_gallons_low          1000 non-null   int64  \n",
      " 21  total_mmbtu_high           1000 non-null   float64\n",
      " 22  total_mmbtu_low            1000 non-null   float64\n",
      " 23  greener_greater_buildings  1000 non-null   int64  \n",
      " 24  ggb_deadline               685 non-null    float64\n",
      " 25  building_type              1000 non-null   object \n",
      " 26  city_council_district      1000 non-null   int64  \n",
      " 27  city_community_board       1000 non-null   object \n",
      " 28  bldg_sqft                  1000 non-null   object \n",
      " 29  of_bldgs                   1000 non-null   int64  \n",
      " 30  of_floors                  1000 non-null   int64  \n",
      " 31  of_res_units               1000 non-null   int64  \n",
      " 32  total_units                1000 non-null   int64  \n",
      " 33  year_built                 1000 non-null   int64  \n",
      " 34  latitude                   993 non-null    float64\n",
      " 35  longitude                  993 non-null    float64\n",
      " 36  census_tract               993 non-null    float64\n",
      " 37  bin                        992 non-null    float64\n",
      " 38  bbl                        992 non-null    float64\n",
      " 39  nta                        993 non-null    object \n",
      " 40  coop                       130 non-null    object \n",
      " 41  condo                      78 non-null     object \n",
      "dtypes: float64(10), int64(14), object(18)\n",
      "memory usage: 328.2+ KB\n"
     ]
    }
   ],
   "source": [
    "Data.info()"
   ]
  },
  {
   "cell_type": "code",
   "execution_count": 246,
   "metadata": {},
   "outputs": [
    {
     "data": {
      "text/plain": [
       "{1008120001: 10018.0,\n",
       " 1008340048: 10001.0,\n",
       " 1008390009: 10016.0,\n",
       " 1008670001: 10034.0,\n",
       " 1022420029: 10021.0,\n",
       " 1014220048: 10451.0,\n",
       " 1022020033: 10452.0,\n",
       " 1022340032: 10459.0,\n",
       " 2023400208: 10453.0,\n",
       " 2025120015: 10457.0,\n",
       " 2025150009: 10458.0,\n",
       " 2027030053: 10468.0,\n",
       " 2028070070: 10467.0,\n",
       " 1008670055: 10010.0,\n",
       " 2028140082: 10280.0,\n",
       " 2031470010: 10004.0,\n",
       " 2031640041: 10006.0,\n",
       " 2031840071: 10038.0,\n",
       " 2033050010: 10007.0,\n",
       " 2033240045: 10002.0,\n",
       " 1008770042: 10013.0,\n",
       " 1000160080: 10009.0,\n",
       " 1000167509: 10012.0,\n",
       " 1000167515: 10003.0,\n",
       " 1000220013: 10014.0,\n",
       " 1000280001: 11012.0,\n",
       " 1000300005: 10011.0,\n",
       " 1000520021: 10033.0,\n",
       " 1000640015: 10017.0,\n",
       " 1000640016: 10019.0,\n",
       " 1000880005: 10036.0,\n",
       " 1000880018: 10023.0,\n",
       " 1003530047: nan,\n",
       " 1000900014: 10024.0,\n",
       " 1000907501: 10025.0}"
      ]
     },
     "execution_count": 246,
     "metadata": {},
     "output_type": "execute_result"
    }
   ],
   "source": [
    "lookup_data = dict(zip(Data.borough_block_lot.unique(), Data.zip_code.unique()))   \n",
    "lookup_data"
   ]
  },
  {
   "cell_type": "markdown",
   "metadata": {},
   "source": [
    "# Data cleaning (placeholder)\n",
    "\n",
    "To do:\n",
    "\n",
    "Fix Borough.\n",
    "Fix sqft.\n",
    "\n",
    "Preprocessing notes: \n",
    "Average of low/high for feature engineering\n",
    "Clean up building_type by collapsing categories\n",
    "\n",
    "Plots for EDA (don't run yet):\n",
    "fig_sqftgal, ax_sqftgal = plt.subplots(figsize=(12, 10))\n",
    "sns.scatterplot(x=\"bldg_sqft\", y=\"total_gallons_high\", hue=\"greener_greater_buildings\",\n",
    "data=clean_heat, ax=ax_sqftgal)"
   ]
  },
  {
   "cell_type": "code",
   "execution_count": 3,
   "metadata": {},
   "outputs": [],
   "source": [
    "# Descriptive categories\n",
    "Data.primary_fuel.replace({\"#6\": \"Residual fuel\",\n",
    "                           \"#4\": \"Distillate fuel (#4)\"}, inplace=True)\n",
    "\n",
    "# The square feet variable is a String rather than an int\n",
    "Data.bldg_sqft = pd.to_numeric(Data.bldg_sqft.str.replace(\"[\\*|,]\", \"\",\n",
    "                                                          regex=True))\n",
    "\n",
    "# Miscoded points\n",
    "# The data contain a handful of very strange observations!\n",
    "# At least three points pointed to City Hall with sixty times the gallons\n",
    "# used of the next maximum observation. I attempted to research the odd points\n",
    "# but found nothing; filtering them out is probably the safest bet.\n",
    "Data.loc[(Data.total_gallons_high > 1000000) |\n",
    "         (Data.total_gallons_low > 1000000) |\n",
    "         (Data.total_gallons_high < 10) |\n",
    "         (Data.total_gallons_low < 10),\n",
    "         [\"total_gallons_high\", \"total_gallons_low\"]] = np.nan\n",
    "\n",
    "# The MMBTU features had similar weirdness. For example, there are at least\n",
    "# six samples with low > high while also having strange numbers that are much\n",
    "# higher than the rest of the data.\n",
    "Data.loc[(Data.total_mmbtu_high > 50000) |\n",
    "         (Data.total_mmbtu_low > 50000) |\n",
    "         (Data.total_mmbtu_high == 0) |\n",
    "         (Data.total_mmbtu_low == 0),\n",
    "         [\"total_mmbtu_high\", \"total_mmbtu_low\"]] = np.nan\n",
    "\n",
    "# These features/columns encode NaNs as zero\n",
    "zero_nans = [\"_6_deadline\", \"ggb_deadline\", \"est_retirement_year\",\n",
    "            \"boiler_installation_date\"]\n",
    "\n",
    "for col in zero_nans:\n",
    "    Data[col].replace({0: np.nan}, inplace=True)\n",
    "    \n",
    "# Change ALL CAPS to title case\n",
    "for all_caps in [\"street_address\", \"building_manager\",\n",
    "                \"owner\", \"owner_address\"]:\n",
    "    Data[all_caps] = Data[all_caps].str.title()\n",
    "\n",
    "# List of (most) categorical columns\n",
    "cats = [\"borough\", \"primary_fuel\", \"utility\",\n",
    "       \"greener_greater_buildings\", \"ggb_deadline\",\n",
    "       \"of_identical_boilers\", \"building_type\",\n",
    "       \"city_council_district\", \"city_community_board\",\n",
    "       \"condo\", \"coop\", \"nta\"] + zero_nans\n",
    "\n",
    "# Convert the types of each categorical\n",
    "for cat in cats:\n",
    "    Data[cat] = Data[cat].astype(\"category\")"
   ]
  },
  {
   "cell_type": "markdown",
   "metadata": {},
   "source": [
    "<img src=\"https://www.simplilearn.com/ice9/free_resources_article_thumb/super.jpg\"> <a id=2></a>\n",
    "\n",
    "## K-Nearest Neighbors (KNN)\n",
    "\n",
    "KNN is simple yet performant supervised machine learning algorithm.\n",
    "\n",
    "Let's say we have a problem where we're trying to label an unknown point, p, that may be _red_ or _blue_. A reasonable approach is to look at the p's _nearest neighbors._ If the point is closest to more blue then we classify it as blue and vice versa for red. We decide based on the _k_ nearest neighbors. For example, if the point is near three red with a _k_ of five then we can reasonably assume that p is red with a 60% chance (that is, $\\frac{3}{5}=.6$).\n",
    "\n",
    "In other words, birds of a feather flock together. Despite the seeming simplicity, KNN is a remarkably good algorithm. Let's look at a simple model to try out KNN.\n",
    "\n",
    "### The scikit-learn pipeline via a simple model"
   ]
  },
  {
   "cell_type": "code",
   "execution_count": 247,
   "metadata": {},
   "outputs": [],
   "source": [
    "from sklearn.neighbors import KNeighborsClassifier\n",
    "\n",
    "X = Data[['of_bldgs', 'of_floors', 'of_res_units']]\n",
    "y = Data['borough']\n",
    "X_train, X_test, y_train, y_test = train_test_split(X, y, random_state=0)"
   ]
  },
  {
   "cell_type": "code",
   "execution_count": 251,
   "metadata": {},
   "outputs": [],
   "source": [
    "#pass the number of clusters in our data \n",
    "knn = KNeighborsClassifier(n_neighbors = 5)"
   ]
  },
  {
   "cell_type": "code",
   "execution_count": 252,
   "metadata": {},
   "outputs": [
    {
     "data": {
      "text/plain": [
       "KNeighborsClassifier()"
      ]
     },
     "execution_count": 252,
     "metadata": {},
     "output_type": "execute_result"
    }
   ],
   "source": [
    "#train the classifier using training data\n",
    "knn.fit(X_train, y_train)"
   ]
  },
  {
   "cell_type": "code",
   "execution_count": 253,
   "metadata": {},
   "outputs": [
    {
     "data": {
      "text/plain": [
       "0.988"
      ]
     },
     "execution_count": 253,
     "metadata": {},
     "output_type": "execute_result"
    }
   ],
   "source": [
    "#predict the values \n",
    "knn.score(X_test, y_test)"
   ]
  },
  {
   "cell_type": "markdown",
   "metadata": {},
   "source": [
    "The model is 98% accurate. "
   ]
  },
  {
   "cell_type": "code",
   "execution_count": 256,
   "metadata": {},
   "outputs": [],
   "source": [
    "data_prediction = knn.predict([[4, 16, 0]])\n"
   ]
  },
  {
   "cell_type": "code",
   "execution_count": 257,
   "metadata": {},
   "outputs": [
    {
     "ename": "KeyError",
     "evalue": "'Manhattan'",
     "output_type": "error",
     "traceback": [
      "\u001b[1;31m---------------------------------------------------------------------------\u001b[0m",
      "\u001b[1;31mKeyError\u001b[0m                                  Traceback (most recent call last)",
      "\u001b[1;32m<ipython-input-257-a98c85c466a9>\u001b[0m in \u001b[0;36m<module>\u001b[1;34m\u001b[0m\n\u001b[1;32m----> 1\u001b[1;33m \u001b[0mlookup_data\u001b[0m\u001b[1;33m[\u001b[0m\u001b[0mdata_prediction\u001b[0m\u001b[1;33m[\u001b[0m\u001b[1;36m0\u001b[0m\u001b[1;33m]\u001b[0m\u001b[1;33m]\u001b[0m\u001b[1;33m\u001b[0m\u001b[1;33m\u001b[0m\u001b[0m\n\u001b[0m",
      "\u001b[1;31mKeyError\u001b[0m: 'Manhattan'"
     ]
    }
   ],
   "source": [
    "\n",
    "lookup_data[data_prediction[0]]"
   ]
  },
  {
   "cell_type": "code",
   "execution_count": 262,
   "metadata": {},
   "outputs": [],
   "source": [
    "k_range = range(1,18)\n",
    "scores = []\n",
    "\n",
    "for k in k_range:\n",
    "    knn = KNeighborsClassifier(n_neighbors = k)\n",
    "    knn.fit(X_train, y_train)\n",
    "    scores.append(knn.score(X_test, y_test))"
   ]
  },
  {
   "cell_type": "code",
   "execution_count": 263,
   "metadata": {},
   "outputs": [
    {
     "data": {
      "image/png": "[encoded data removed]",
      "text/plain": [
       "<Figure size 432x288 with 1 Axes>"
      ]
     },
     "metadata": {
      "needs_background": "light"
     },
     "output_type": "display_data"
    }
   ],
   "source": [
    "plt.figure()\n",
    "plt.xlabel('k')\n",
    "plt.ylabel('accuracy')\n",
    "plt.scatter(k_range, scores)\n",
    "plt.xticks([0,3,6,9,12, 15, 18]);"
   ]
  },
  {
   "cell_type": "code",
   "execution_count": null,
   "metadata": {},
   "outputs": [],
   "source": []
  },
  {
   "cell_type": "code",
   "execution_count": 266,
   "metadata": {},
   "outputs": [],
   "source": [
    "t = [0.984, 0.985, 0.986, 0.987, 0.989, 0.990, 0.991]\n",
    "\n",
    "knn = KNeighborsClassifier(n_neighbors = 3)"
   ]
  },
  {
   "cell_type": "code",
   "execution_count": 267,
   "metadata": {},
   "outputs": [
    {
     "data": {
      "image/png": "[encoded data removed]",
      "text/plain": [
       "<Figure size 432x288 with 1 Axes>"
      ]
     },
     "metadata": {
      "needs_background": "light"
     },
     "output_type": "display_data"
    }
   ],
   "source": [
    "plt.figure()\n",
    "\n",
    "for s in t:\n",
    "\n",
    "    scores = [] #List for scores, but reset with each value in the list, t\n",
    "    for i in range(1,1000): #Train for a 1,000 iterations \n",
    "        X_train, X_test, y_train, y_test = train_test_split(X, y, test_size = 1-s)\n",
    "        knn.fit(X_train, y_train)\n",
    "        scores.append(knn.score(X_test, y_test)) #Append scores\n",
    "    plt.plot(s, np.mean(scores), 'bo') #Save the average value of these scores for this value in t\n",
    "\n",
    "plt.xlabel('Training set proportion (%)')\n",
    "plt.ylabel('accuracy');"
   ]
  },
  {
   "cell_type": "markdown",
   "metadata": {},
   "source": [
    "## Your Turn \n",
    "\n",
    "Please give the participants some challange"
   ]
  },
  {
   "cell_type": "code",
   "execution_count": null,
   "metadata": {},
   "outputs": [],
   "source": []
  },
  {
   "cell_type": "markdown",
   "metadata": {},
   "source": [
    "\n",
    "<img src=\"https://www.simplilearn.com/ice9/free_resources_article_thumb/unsup.jpg\"> <a id=3></a>\n",
    "\n",
    "## PCA "
   ]
  },
  {
   "cell_type": "code",
   "execution_count": 223,
   "metadata": {},
   "outputs": [
    {
     "data": {
      "text/html": [
       "<div>\n",
       "<style scoped>\n",
       "    .dataframe tbody tr th:only-of-type {\n",
       "        vertical-align: middle;\n",
       "    }\n",
       "\n",
       "    .dataframe tbody tr th {\n",
       "        vertical-align: top;\n",
       "    }\n",
       "\n",
       "    .dataframe thead th {\n",
       "        text-align: right;\n",
       "    }\n",
       "</style>\n",
       "<table border=\"1\" class=\"dataframe\">\n",
       "  <thead>\n",
       "    <tr style=\"text-align: right;\">\n",
       "      <th></th>\n",
       "      <th>pub_dt</th>\n",
       "      <th>fisc_yr</th>\n",
       "      <th>agy_nm</th>\n",
       "      <th>exp</th>\n",
       "      <th>cap_repr</th>\n",
       "      <th>cap_mgtn</th>\n",
       "    </tr>\n",
       "  </thead>\n",
       "  <tbody>\n",
       "    <tr>\n",
       "      <th>0</th>\n",
       "      <td>20200416</td>\n",
       "      <td>2021</td>\n",
       "      <td>Health and Hospitals Corporation</td>\n",
       "      <td>1.228660e+08</td>\n",
       "      <td>9.834587e+08</td>\n",
       "      <td>7.568733e+08</td>\n",
       "    </tr>\n",
       "    <tr>\n",
       "      <th>1</th>\n",
       "      <td>20200416</td>\n",
       "      <td>2021</td>\n",
       "      <td>Department of Parks and Recreation</td>\n",
       "      <td>9.447368e+07</td>\n",
       "      <td>7.748664e+08</td>\n",
       "      <td>2.451435e+08</td>\n",
       "    </tr>\n",
       "    <tr>\n",
       "      <th>2</th>\n",
       "      <td>20200416</td>\n",
       "      <td>2021</td>\n",
       "      <td>Department of Environmental Protection</td>\n",
       "      <td>6.169037e+08</td>\n",
       "      <td>2.635274e+08</td>\n",
       "      <td>2.948563e+08</td>\n",
       "    </tr>\n",
       "    <tr>\n",
       "      <th>3</th>\n",
       "      <td>20200416</td>\n",
       "      <td>2021</td>\n",
       "      <td>Department of Education / School Construction ...</td>\n",
       "      <td>9.488819e+07</td>\n",
       "      <td>5.443869e+08</td>\n",
       "      <td>1.916224e+08</td>\n",
       "    </tr>\n",
       "    <tr>\n",
       "      <th>4</th>\n",
       "      <td>20200416</td>\n",
       "      <td>2021</td>\n",
       "      <td>Department of Transportation</td>\n",
       "      <td>1.049950e+07</td>\n",
       "      <td>1.274047e+08</td>\n",
       "      <td>4.604212e+06</td>\n",
       "    </tr>\n",
       "    <tr>\n",
       "      <th>5</th>\n",
       "      <td>20200416</td>\n",
       "      <td>2021</td>\n",
       "      <td>Police Department</td>\n",
       "      <td>2.021640e+08</td>\n",
       "      <td>8.080028e+07</td>\n",
       "      <td>1.132206e+07</td>\n",
       "    </tr>\n",
       "    <tr>\n",
       "      <th>6</th>\n",
       "      <td>20200416</td>\n",
       "      <td>2021</td>\n",
       "      <td>Fire Department</td>\n",
       "      <td>2.547157e+07</td>\n",
       "      <td>1.996169e+08</td>\n",
       "      <td>4.047178e+06</td>\n",
       "    </tr>\n",
       "    <tr>\n",
       "      <th>7</th>\n",
       "      <td>20200416</td>\n",
       "      <td>2021</td>\n",
       "      <td>Department of Sanitation</td>\n",
       "      <td>1.771236e+08</td>\n",
       "      <td>2.905189e+07</td>\n",
       "      <td>1.100613e+07</td>\n",
       "    </tr>\n",
       "    <tr>\n",
       "      <th>8</th>\n",
       "      <td>20200416</td>\n",
       "      <td>2021</td>\n",
       "      <td>Department of Cultural Affairs</td>\n",
       "      <td>1.169097e+06</td>\n",
       "      <td>1.218306e+08</td>\n",
       "      <td>6.926632e+07</td>\n",
       "    </tr>\n",
       "    <tr>\n",
       "      <th>9</th>\n",
       "      <td>20200416</td>\n",
       "      <td>2021</td>\n",
       "      <td>Department of Corrections</td>\n",
       "      <td>3.375761e+06</td>\n",
       "      <td>7.047919e+07</td>\n",
       "      <td>1.498538e+07</td>\n",
       "    </tr>\n",
       "    <tr>\n",
       "      <th>10</th>\n",
       "      <td>20200416</td>\n",
       "      <td>2021</td>\n",
       "      <td>Economic Development Corporation</td>\n",
       "      <td>3.323528e+06</td>\n",
       "      <td>1.291900e+08</td>\n",
       "      <td>1.069164e+07</td>\n",
       "    </tr>\n",
       "    <tr>\n",
       "      <th>11</th>\n",
       "      <td>20200416</td>\n",
       "      <td>2021</td>\n",
       "      <td>Other City Agencies</td>\n",
       "      <td>1.705392e+08</td>\n",
       "      <td>2.843052e+08</td>\n",
       "      <td>2.529422e+07</td>\n",
       "    </tr>\n",
       "    <tr>\n",
       "      <th>12</th>\n",
       "      <td>20200416</td>\n",
       "      <td>2021</td>\n",
       "      <td>New York City Housing Authority</td>\n",
       "      <td>2.679783e+08</td>\n",
       "      <td>1.454958e+09</td>\n",
       "      <td>1.458092e+09</td>\n",
       "    </tr>\n",
       "  </tbody>\n",
       "</table>\n",
       "</div>"
      ],
      "text/plain": [
       "      pub_dt  fisc_yr                                             agy_nm  \\\n",
       "0   20200416     2021                   Health and Hospitals Corporation   \n",
       "1   20200416     2021                 Department of Parks and Recreation   \n",
       "2   20200416     2021             Department of Environmental Protection   \n",
       "3   20200416     2021  Department of Education / School Construction ...   \n",
       "4   20200416     2021                       Department of Transportation   \n",
       "5   20200416     2021                                  Police Department   \n",
       "6   20200416     2021                                    Fire Department   \n",
       "7   20200416     2021                           Department of Sanitation   \n",
       "8   20200416     2021                     Department of Cultural Affairs   \n",
       "9   20200416     2021                          Department of Corrections   \n",
       "10  20200416     2021                   Economic Development Corporation   \n",
       "11  20200416     2021                                Other City Agencies   \n",
       "12  20200416     2021                    New York City Housing Authority   \n",
       "\n",
       "             exp      cap_repr      cap_mgtn  \n",
       "0   1.228660e+08  9.834587e+08  7.568733e+08  \n",
       "1   9.447368e+07  7.748664e+08  2.451435e+08  \n",
       "2   6.169037e+08  2.635274e+08  2.948563e+08  \n",
       "3   9.488819e+07  5.443869e+08  1.916224e+08  \n",
       "4   1.049950e+07  1.274047e+08  4.604212e+06  \n",
       "5   2.021640e+08  8.080028e+07  1.132206e+07  \n",
       "6   2.547157e+07  1.996169e+08  4.047178e+06  \n",
       "7   1.771236e+08  2.905189e+07  1.100613e+07  \n",
       "8   1.169097e+06  1.218306e+08  6.926632e+07  \n",
       "9   3.375761e+06  7.047919e+07  1.498538e+07  \n",
       "10  3.323528e+06  1.291900e+08  1.069164e+07  \n",
       "11  1.705392e+08  2.843052e+08  2.529422e+07  \n",
       "12  2.679783e+08  1.454958e+09  1.458092e+09  "
      ]
     },
     "execution_count": 223,
     "metadata": {},
     "output_type": "execute_result"
    }
   ],
   "source": [
    "Data = pd.read_json(\"https://data.cityofnewyork.us/resource/h5f7-3btz.json\")\n",
    "\n",
    "Data\n",
    "\n"
   ]
  },
  {
   "cell_type": "code",
   "execution_count": 224,
   "metadata": {},
   "outputs": [],
   "source": [
    "#Standardize the Data"
   ]
  },
  {
   "cell_type": "code",
   "execution_count": 225,
   "metadata": {},
   "outputs": [],
   "source": [
    "from sklearn.preprocessing import StandardScaler"
   ]
  },
  {
   "cell_type": "code",
   "execution_count": 226,
   "metadata": {},
   "outputs": [],
   "source": [
    "x = Data[['exp', 'cap_repr', 'cap_mgtn']]"
   ]
  },
  {
   "cell_type": "code",
   "execution_count": 227,
   "metadata": {},
   "outputs": [],
   "source": [
    "y = Data[['agy_nm']]"
   ]
  },
  {
   "cell_type": "code",
   "execution_count": 228,
   "metadata": {},
   "outputs": [],
   "source": [
    "x = StandardScaler().fit_transform(x)"
   ]
  },
  {
   "cell_type": "code",
   "execution_count": 229,
   "metadata": {},
   "outputs": [],
   "source": [
    "from sklearn.decomposition import PCA\n",
    "pca = PCA(n_components=2) #Set up the model, and we only want to collapse these data into two dimensions. \n",
    "principalComponents = pca.fit_transform(x) #Take our data--saved as x--and run the model."
   ]
  },
  {
   "cell_type": "code",
   "execution_count": 230,
   "metadata": {},
   "outputs": [],
   "source": [
    "#Now let's take the results--saved as principalComponents--and save it to a DataFrame.\n",
    "principalDf = pd.DataFrame(data = principalComponents\n",
    "             , columns = ['principal component 1', 'principal component 2'])"
   ]
  },
  {
   "cell_type": "code",
   "execution_count": 231,
   "metadata": {},
   "outputs": [],
   "source": [
    "finalDf = pd.concat([principalDf, Data[['agy_nm']]], axis = 1)"
   ]
  },
  {
   "cell_type": "code",
   "execution_count": 232,
   "metadata": {},
   "outputs": [
    {
     "data": {
      "text/html": [
       "<div>\n",
       "<style scoped>\n",
       "    .dataframe tbody tr th:only-of-type {\n",
       "        vertical-align: middle;\n",
       "    }\n",
       "\n",
       "    .dataframe tbody tr th {\n",
       "        vertical-align: top;\n",
       "    }\n",
       "\n",
       "    .dataframe thead th {\n",
       "        text-align: right;\n",
       "    }\n",
       "</style>\n",
       "<table border=\"1\" class=\"dataframe\">\n",
       "  <thead>\n",
       "    <tr style=\"text-align: right;\">\n",
       "      <th></th>\n",
       "      <th>principal component 1</th>\n",
       "      <th>principal component 2</th>\n",
       "      <th>agy_nm</th>\n",
       "    </tr>\n",
       "  </thead>\n",
       "  <tbody>\n",
       "    <tr>\n",
       "      <th>0</th>\n",
       "      <td>1.763721</td>\n",
       "      <td>-0.742329</td>\n",
       "      <td>Health and Hospitals Corporation</td>\n",
       "    </tr>\n",
       "    <tr>\n",
       "      <th>1</th>\n",
       "      <td>0.525637</td>\n",
       "      <td>-0.545801</td>\n",
       "      <td>Department of Parks and Recreation</td>\n",
       "    </tr>\n",
       "    <tr>\n",
       "      <th>2</th>\n",
       "      <td>0.896682</td>\n",
       "      <td>2.839576</td>\n",
       "      <td>Department of Environmental Protection</td>\n",
       "    </tr>\n",
       "    <tr>\n",
       "      <th>3</th>\n",
       "      <td>0.075826</td>\n",
       "      <td>-0.346903</td>\n",
       "      <td>Department of Education / School Construction ...</td>\n",
       "    </tr>\n",
       "    <tr>\n",
       "      <th>4</th>\n",
       "      <td>-1.065777</td>\n",
       "      <td>-0.442990</td>\n",
       "      <td>Department of Transportation</td>\n",
       "    </tr>\n",
       "  </tbody>\n",
       "</table>\n",
       "</div>"
      ],
      "text/plain": [
       "   principal component 1  principal component 2  \\\n",
       "0               1.763721              -0.742329   \n",
       "1               0.525637              -0.545801   \n",
       "2               0.896682               2.839576   \n",
       "3               0.075826              -0.346903   \n",
       "4              -1.065777              -0.442990   \n",
       "\n",
       "                                              agy_nm  \n",
       "0                   Health and Hospitals Corporation  \n",
       "1                 Department of Parks and Recreation  \n",
       "2             Department of Environmental Protection  \n",
       "3  Department of Education / School Construction ...  \n",
       "4                       Department of Transportation  "
      ]
     },
     "execution_count": 232,
     "metadata": {},
     "output_type": "execute_result"
    }
   ],
   "source": [
    "finalDf.head()"
   ]
  },
  {
   "cell_type": "code",
   "execution_count": 233,
   "metadata": {},
   "outputs": [],
   "source": [
    "%matplotlib inline\n",
    "import matplotlib.pyplot as plt\n",
    "import numpy as np"
   ]
  },
  {
   "cell_type": "code",
   "execution_count": 234,
   "metadata": {},
   "outputs": [
    {
     "data": {
      "image/png": "[encoded data removed]",
      "text/plain": [
       "<Figure size 576x576 with 1 Axes>"
      ]
     },
     "metadata": {
      "needs_background": "light"
     },
     "output_type": "display_data"
    }
   ],
   "source": [
    "fig = plt.figure(figsize = (8,8))\n",
    "ax = fig.add_subplot(1,1,1) \n",
    "ax.set_xlabel('Principal Component 1', fontsize = 15)\n",
    "ax.set_ylabel('Principal Component 2', fontsize = 15)\n",
    "ax.set_title('2 component PCA', fontsize = 20)\n",
    "agy_nm = ['exp', 'cap_repr', 'cap_mgtn']\n",
    "colors = ['r', 'g', 'b']\n",
    "for agy_nm, color in zip(agy_nm,colors):\n",
    "    indicesToKeep = finalDf['agy_nm'] == agy_nm\n",
    "    ax.scatter(finalDf.loc[indicesToKeep, 'principal component 1']\n",
    "               , finalDf.loc[indicesToKeep, 'principal component 2']\n",
    "               , c = color\n",
    "               , s = 50)\n",
    "ax.legend(agy_nm)\n",
    "ax.grid()"
   ]
  },
  {
   "cell_type": "code",
   "execution_count": null,
   "metadata": {},
   "outputs": [],
   "source": []
  },
  {
   "cell_type": "code",
   "execution_count": null,
   "metadata": {},
   "outputs": [],
   "source": []
  },
  {
   "cell_type": "code",
   "execution_count": null,
   "metadata": {},
   "outputs": [],
   "source": []
  },
  {
   "cell_type": "code",
   "execution_count": null,
   "metadata": {},
   "outputs": [],
   "source": []
  },
  {
   "cell_type": "code",
   "execution_count": null,
   "metadata": {},
   "outputs": [],
   "source": []
  }
 ],
 "metadata": {
  "kernelspec": {
   "display_name": "Python 3",
   "language": "python",
   "name": "python3"
  },
  "language_info": {
   "codemirror_mode": {
    "name": "ipython",
    "version": 3
   },
   "file_extension": ".py",
   "mimetype": "text/x-python",
   "name": "python",
   "nbconvert_exporter": "python",
   "pygments_lexer": "ipython3",
   "version": "3.7.9"
  }
 },
 "nbformat": 4,
 "nbformat_minor": 4
}
